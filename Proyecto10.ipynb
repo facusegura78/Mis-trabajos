{
 "cells": [
  {
   "cell_type": "markdown",
   "id": "f430cc82-0e07-4345-b40c-3a1e22de51ff",
   "metadata": {},
   "source": [
    "<h1><font color=\"#113D68\" size=5>Redes neuronales y deep learning</font></h1>\n",
    "\n",
    "\n",
    "\n",
    "<h1><font color=\"#113D68\" size=6>Caso Práctico: análisis de un problema de regresión con Deep Learning</font></h1>\n",
    "\n",
    "\n",
    "<br><br>\n",
    "<div style=\"text-align: right\">\n",
    "<font size=3>Daniel González</font><br>\n",
    "<font size=3>Semana 3: Ajuste de modelos de Deep Learning</font><br>\n",
    "<font size=3>IEBS</font>\n",
    "</div>\n",
    "\n",
    "---\n"
   ]
  },
  {
   "cell_type": "markdown",
   "id": "1dba54fa-f73e-40c2-9883-b4186be0a564",
   "metadata": {},
   "source": [
    "<a id=\"indice\"></a>\n",
    "<h2><font color=\"#004D7F\" size=5>Índice</font></h2>\n",
    "\n",
    "* [Caso práctico](#section1)\n",
    "    - [Parte obligatoria](#section1.1)\n",
    "    - [Parte opcional](#section1.2)\n",
    "    - [Objetivos](#section1.3)\n",
    "    - [Criterios de entrega](#section1.4)\n",
    "    - [Temporalización](#section1.5)\n",
    "* [California Housing Dataset](#section2)\n",
    "* [Establecer una función de coste adecuada a nuestro problema](#section3)\n",
    "* [Overfitting sobre un pequeño conjunto de datos](#section4)\n",
    "    - [Ejercicio 1](section4.1)\n",
    "    - [Ejercicio 2](section4.2)\n",
    "    - [Ejercicio 3](section4.3)\n",
    "    - [Ejercicio 4](section4.4)\n",
    "    - [Ejercicio 5](section4.5)\n",
    "* [Elegimos un Optimizer](#section5)\n",
    "    - [Ejercicio 6](section5.1)\n",
    "    - [Ejercicio 7](section5.2)\n",
    "    - [Ejercicio 8](section5.3)\n",
    "* [Probar diferentes configuraciones con un número pequeño de epochs](#section6)\n",
    "    - [Ejercicio 9](section6.1)\n",
    "    - [Ejercicio 10](section6.2)\n",
    "* [Ajuste refinado de los parámetros con más epochs](#section7)\n",
    "    - [Ejercicio 11](section7.1)\n",
    "    - [Ejercicio 12](section7.2)"
   ]
  },
  {
   "cell_type": "code",
   "execution_count": 1,
   "id": "e063b23e-4fb9-42ea-b062-48b9657a0acd",
   "metadata": {},
   "outputs": [],
   "source": [
    "import tensorflow as tf\n",
    "import numpy as np\n",
    "import pandas as pd\n",
    "\n",
    "# Para mostrar gráficas\n",
    "import matplotlib.pyplot as plt\n",
    "%matplotlib inline\n",
    "\n",
    "# Anaconda fixing problem\n",
    "import os\n",
    "os.environ['KMP_DUPLICATE_LIB_OK']='True'"
   ]
  },
  {
   "cell_type": "markdown",
   "id": "6e317bcf-3b1a-45ca-8505-8472b270353f",
   "metadata": {
    "colab_type": "text",
    "id": "fnreb9XA3Nsp"
   },
   "source": [
    "# <font color=\"#004D7F\" size=5>Caso práctico</font>\n",
    "\n",
    "El objetivo de este caso práctico es simular como se haría un análisis completo de un problema para resolverlo con Deep Learning. Nos pondremos en la piel de un *data scientist* dedicado a analizar y crear modelos de Deep Learning para pasarlos a producción y ser desplegados en una aplicación.\n",
    "\n",
    "**Destacar que este caso práctico es la continuación de la última actividad realizada en la semana anterior. En la actividad de la semana anterior encontramos la mejor arquitectura para los datos que tenemos y ahora vmoas a realizar más experimentos jugando con los optimizers y el valor del learning rate.**\n",
    "\n",
    "Imaginemos que tenemos un dataset completo que queremos explotar, nuestra labor será coger este dataset (California Housing Dataset) y desde 0 intentar llegar conseguir un modelo que tenga un buen rendimiento ajustándolo poco a poco como hemos visto en clase. Por lo que tendrmeos que entrerar distintas redes y comparar los resultados que obtengamos en cada experimento para ver cual es mejor.\n",
    "\n",
    "Cada experimento que tendremos que realizar estará bien definido, la red que deberéis crear y entrenar será proporcinada por lo que solamente tendréis que crear la red que se nos indica con TensorFlow y realizar el entrenamiento de la misma.\n",
    "\n",
    "## <font color=\"#004D7F\" size=4>Parte obligatoria</font>\n",
    "\n",
    "Será obligatorio realizar cada uno de los ejercicios que están definidos. En cada ejercicio está definida la red que se tiene que crear y la configuración con la que se tiene que entrenar, por lo que solamente tendréis que pasar esa definición a código con TensorFlow.\n",
    "\n",
    "Para tener una buena práctica en la realización de este caso práctico se ofrecen esta recomendaciones:\n",
    "\n",
    "- Utiliza correctamente el sistema de celdas de jupyter. La libreta está realizada de tal forma que solo tendréis que completar las celdas que se indican, ya sea con código o con texto en markdown. Se recomienda rellenar solamente las celdas indicadas para que quede un informe limpio y fácil de seguir. Si fuera necesario incluir más celdas por cualquier motivo se puede hacer pero realizarlo con cuidado para no ensuciar demasiado la libreta.\n",
    "<br><br>\n",
    "- Las redes que tendréis que crear en cada experimento son las vistas en clase, por lo que os podéis inspirar en los ejemplos vistos en los tutoriales. Os recomiendo que no copiéis y peguéis código tal cual, sino que lo escribáis por vuestra cuenta y entendáis lo que estáis haciendo en cada momento. Tomaros el tiempo que haga falta para entender cada paso.\n",
    "<br><br>\n",
    "- Comprueba que todo se ejecuta correctamente antes de enviar tu trabajo. La mejor forma de enviarlo es exportando la libreta a pdf o html para enviarla en un formato más profesional.\n",
    "\n",
    "## <font color=\"#004D7F\" size=4>Parte opcional</font>\n",
    "La parte opcional son los últimos ejercicios donde tendréis que sacar una conclusión de si la red que habéis llegado a conseguir tiene un buen rendimiento.\n",
    "\n",
    "## <font color=\"#004D7F\" size=4>Objetivos</font>\n",
    "* Cargar y entender los datos del dataset California Housing con los que se trabajarán.\n",
    "* Crear cada una de las redes indicadas en los experimentos.\n",
    "* Entrenar cada una de las redes creadas en los experimentos.\n",
    "* Entender los resultados obtenidos en cada entrenamiento.\n",
    "\n",
    "## <font color=\"#004D7F\" size=4>Criterios de entrega</font>\n",
    "Se deberá entregar una libreta de jupyter, aunque se agradecerá que el formato entregado se html o pdf, el trabajo debe estar autocontenido, incluyendo código y texto explicativo para cada sección. "
   ]
  },
  {
   "cell_type": "markdown",
   "id": "4f1aaf67-907f-4b6b-afeb-590f5e5b0e47",
   "metadata": {},
   "source": [
    "# <font color=\"#004D7F\" size=5>California Housing Dataset</font>\n",
    "En este notebook vamos a usar un dataset nuevo, el dataset es muy parecido al dataset del precio de las casas de boston. Esta vez vamos a utilizar un conjunto de datos que contienen información sobre el precio de las casas encontradas en un distrito de California. Las columnas son las siguientes:\n",
    "\n",
    "- _longitude_: cuanto de al oeste está una casa; un valor más alto está más al oeste.\n",
    "- _latitude_: cuanto de al norte está una casa; un valor más alto está más al norte.\n",
    "- _housing_median_age_: edad media de una casa; un valor bajo es una casa más nueva.\n",
    "- _total_rooms_: número total de habitaciones.\n",
    "- _total_bedrooms_: número total de dormitorios.\n",
    "- _population_: número total de personas que residen.\n",
    "- _households_: número total de hogares, un grupo de personas que residen dentro de una unidad de vivienda.\n",
    "- _median_income_: ingreso medio de los hogares dentro de un bloque de casas (medido en decenas de miles de dólares).\n",
    "- _ocean_proximity_: ubicación de la casa cerca del océano o mar.\n",
    "- _median_house_value (**variables a predecir**)_: valor medio de la vivienda (medido en dólares).\n",
    "\n",
    "Vamos a cargar los datos desde el fichero `housing.csv`:"
   ]
  },
  {
   "cell_type": "code",
   "execution_count": 2,
   "id": "ad482b16-92bc-42a2-8515-cfc9d9018a81",
   "metadata": {},
   "outputs": [],
   "source": [
    "df = pd.read_csv('housing.csv')"
   ]
  },
  {
   "cell_type": "code",
   "execution_count": 3,
   "id": "815c3f5b-9019-4799-865c-25419f6814d1",
   "metadata": {},
   "outputs": [
    {
     "data": {
      "text/html": [
       "<div>\n",
       "<style scoped>\n",
       "    .dataframe tbody tr th:only-of-type {\n",
       "        vertical-align: middle;\n",
       "    }\n",
       "\n",
       "    .dataframe tbody tr th {\n",
       "        vertical-align: top;\n",
       "    }\n",
       "\n",
       "    .dataframe thead th {\n",
       "        text-align: right;\n",
       "    }\n",
       "</style>\n",
       "<table border=\"1\" class=\"dataframe\">\n",
       "  <thead>\n",
       "    <tr style=\"text-align: right;\">\n",
       "      <th></th>\n",
       "      <th>longitude</th>\n",
       "      <th>latitude</th>\n",
       "      <th>housing_median_age</th>\n",
       "      <th>total_rooms</th>\n",
       "      <th>total_bedrooms</th>\n",
       "      <th>population</th>\n",
       "      <th>households</th>\n",
       "      <th>median_income</th>\n",
       "      <th>ocean_proximity</th>\n",
       "      <th>median_house_value</th>\n",
       "    </tr>\n",
       "  </thead>\n",
       "  <tbody>\n",
       "    <tr>\n",
       "      <th>0</th>\n",
       "      <td>-122.23</td>\n",
       "      <td>37.88</td>\n",
       "      <td>41.0</td>\n",
       "      <td>880.0</td>\n",
       "      <td>129.0</td>\n",
       "      <td>322.0</td>\n",
       "      <td>126.0</td>\n",
       "      <td>8.3252</td>\n",
       "      <td>3</td>\n",
       "      <td>452600.0</td>\n",
       "    </tr>\n",
       "    <tr>\n",
       "      <th>1</th>\n",
       "      <td>-122.22</td>\n",
       "      <td>37.86</td>\n",
       "      <td>21.0</td>\n",
       "      <td>7099.0</td>\n",
       "      <td>1106.0</td>\n",
       "      <td>2401.0</td>\n",
       "      <td>1138.0</td>\n",
       "      <td>8.3014</td>\n",
       "      <td>3</td>\n",
       "      <td>358500.0</td>\n",
       "    </tr>\n",
       "    <tr>\n",
       "      <th>2</th>\n",
       "      <td>-122.24</td>\n",
       "      <td>37.85</td>\n",
       "      <td>52.0</td>\n",
       "      <td>1467.0</td>\n",
       "      <td>190.0</td>\n",
       "      <td>496.0</td>\n",
       "      <td>177.0</td>\n",
       "      <td>7.2574</td>\n",
       "      <td>3</td>\n",
       "      <td>352100.0</td>\n",
       "    </tr>\n",
       "    <tr>\n",
       "      <th>3</th>\n",
       "      <td>-122.25</td>\n",
       "      <td>37.85</td>\n",
       "      <td>52.0</td>\n",
       "      <td>1274.0</td>\n",
       "      <td>235.0</td>\n",
       "      <td>558.0</td>\n",
       "      <td>219.0</td>\n",
       "      <td>5.6431</td>\n",
       "      <td>3</td>\n",
       "      <td>341300.0</td>\n",
       "    </tr>\n",
       "    <tr>\n",
       "      <th>4</th>\n",
       "      <td>-122.25</td>\n",
       "      <td>37.85</td>\n",
       "      <td>52.0</td>\n",
       "      <td>1627.0</td>\n",
       "      <td>280.0</td>\n",
       "      <td>565.0</td>\n",
       "      <td>259.0</td>\n",
       "      <td>3.8462</td>\n",
       "      <td>3</td>\n",
       "      <td>342200.0</td>\n",
       "    </tr>\n",
       "  </tbody>\n",
       "</table>\n",
       "</div>"
      ],
      "text/plain": [
       "   longitude  latitude  housing_median_age  total_rooms  total_bedrooms  \\\n",
       "0    -122.23     37.88                41.0        880.0           129.0   \n",
       "1    -122.22     37.86                21.0       7099.0          1106.0   \n",
       "2    -122.24     37.85                52.0       1467.0           190.0   \n",
       "3    -122.25     37.85                52.0       1274.0           235.0   \n",
       "4    -122.25     37.85                52.0       1627.0           280.0   \n",
       "\n",
       "   population  households  median_income  ocean_proximity  median_house_value  \n",
       "0       322.0       126.0         8.3252                3            452600.0  \n",
       "1      2401.0      1138.0         8.3014                3            358500.0  \n",
       "2       496.0       177.0         7.2574                3            352100.0  \n",
       "3       558.0       219.0         5.6431                3            341300.0  \n",
       "4       565.0       259.0         3.8462                3            342200.0  "
      ]
     },
     "execution_count": 3,
     "metadata": {},
     "output_type": "execute_result"
    }
   ],
   "source": [
    "df.head()"
   ]
  },
  {
   "cell_type": "code",
   "execution_count": 4,
   "id": "584e62e4-716b-4fe5-b093-8cd0897b1147",
   "metadata": {},
   "outputs": [
    {
     "data": {
      "text/plain": [
       "(20433, 10)"
      ]
     },
     "execution_count": 4,
     "metadata": {},
     "output_type": "execute_result"
    }
   ],
   "source": [
    "df.shape"
   ]
  },
  {
   "cell_type": "markdown",
   "id": "5dcbc720-9ae5-4573-b717-380fc57300db",
   "metadata": {},
   "source": [
    "Vamos a separar la variable objetivo del resto de variables (accedemos al campo value para que los datos sean de tipo _numpy array_ y se puedan usar como variable de entrada de nuestra red):"
   ]
  },
  {
   "cell_type": "code",
   "execution_count": 5,
   "id": "66f94dde-c456-4e7c-8d66-c29989a936d5",
   "metadata": {},
   "outputs": [
    {
     "data": {
      "text/plain": [
       "Index(['longitude', 'latitude', 'housing_median_age', 'total_rooms',\n",
       "       'total_bedrooms', 'population', 'households', 'median_income',\n",
       "       'ocean_proximity', 'median_house_value'],\n",
       "      dtype='object')"
      ]
     },
     "execution_count": 5,
     "metadata": {},
     "output_type": "execute_result"
    }
   ],
   "source": [
    "df.columns"
   ]
  },
  {
   "cell_type": "code",
   "execution_count": 6,
   "id": "a3dc67f7-96c7-4d68-a9de-cd7e987d4317",
   "metadata": {},
   "outputs": [],
   "source": [
    "x = df[['longitude', 'latitude', 'housing_median_age', 'total_rooms',\n",
    "       'total_bedrooms', 'population', 'households', 'median_income',\n",
    "       'ocean_proximity']].values\n",
    "y = df[['median_house_value']].values"
   ]
  },
  {
   "cell_type": "markdown",
   "id": "2c2083f7-4a8a-4d7e-8d84-29c7bc8ab5e4",
   "metadata": {
    "id": "82e09c58-ea1c-4c0b-b9c1-1b95f1fff85c"
   },
   "source": [
    "## 1. Establecer una función de coste adecuada a nuestro problema.\n",
    "\n",
    "En este caso, como es un problema de regresión y los valores de nuestros datos son tan grandes, elegimos la función de coste `mean_absolute_percentage_error`, este error varía entre los valores 100 y 0 donde 100 es el pero error que podemos llegar a tener y 0 es el mejor error, por lo que en nuestros entrenamientos buscaremos un error más cercano a 0."
   ]
  },
  {
   "cell_type": "code",
   "execution_count": 7,
   "id": "ecce9bab-53be-4608-9ed1-22681a002b45",
   "metadata": {},
   "outputs": [],
   "source": [
    "actual_loss = 'mean_absolute_percentage_error'"
   ]
  },
  {
   "cell_type": "markdown",
   "id": "de461a42-39f5-4e95-834b-3e44dd827b1e",
   "metadata": {
    "id": "54a43b29-029b-442d-94b0-c63c49a66ff4"
   },
   "source": [
    "## 2. Overfitting sobre un pequeño conjunto de datos.\n",
    "\n",
    "Ahora, como ya hemos visto en clase vamos a encontrar una estructura de red que encaje con los datos que vamos a utilizar. Vamos a crear varias redes a ver que talfuncionan.\n",
    "\n",
    "Para hacer entrenamientos rápidos y ver si la red se adapta a los datos vamos a usar solo un subconjunto de los datos, es decir usaremos 1000 datos y no usaremos conjunto de validación. "
   ]
  },
  {
   "cell_type": "markdown",
   "id": "be35e870-17dc-4bd6-b980-dfc15407e273",
   "metadata": {},
   "source": [
    "### <font color=\"#004D7F\" size=4>Ejercicio 1</font>\n",
    "\n",
    "Crear una red con la siguiente configuración y entrénala:\n",
    "\n",
    "- **Configuración de la red**:\n",
    "    - Arquitectura de la red:\n",
    "        - *1º Capa*: capa de entrada donde indiques la dimensión de los datos.\n",
    "        - *2º Capa*: capa densa con 8 neuronas y función de activación *relu*.\n",
    "        - *3º Capa*: capa densa con 8 neuronas y función de activación *relu*.\n",
    "        - *4º Capa*: capa de salida con una neurona sin función de activación.\n",
    "        \n",
    "    - Tipo de entrenamiento:\n",
    "        - *Epochs*: 30\n",
    "        - *Optimizador*: *adam*\n",
    "        - *Learning Rate*: 0.001"
   ]
  },
  {
   "cell_type": "code",
   "execution_count": 8,
   "id": "9a4fb414-5ca3-47bc-a796-cfbe3ba2252f",
   "metadata": {},
   "outputs": [
    {
     "name": "stdout",
     "output_type": "stream",
     "text": [
      "Epoch 1/30\n",
      "32/32 [==============================] - 0s 828us/step - loss: 99.6883\n",
      "Epoch 2/30\n",
      "32/32 [==============================] - 0s 717us/step - loss: 99.2799\n",
      "Epoch 3/30\n",
      "32/32 [==============================] - 0s 841us/step - loss: 98.7703\n",
      "Epoch 4/30\n",
      "32/32 [==============================] - 0s 686us/step - loss: 98.0867\n",
      "Epoch 5/30\n",
      "32/32 [==============================] - 0s 810us/step - loss: 97.1714\n",
      "Epoch 6/30\n",
      "32/32 [==============================] - 0s 904us/step - loss: 95.9606\n",
      "Epoch 7/30\n",
      "32/32 [==============================] - 0s 748us/step - loss: 94.3485\n",
      "Epoch 8/30\n",
      "32/32 [==============================] - 0s 810us/step - loss: 92.2050\n",
      "Epoch 9/30\n",
      "32/32 [==============================] - 0s 717us/step - loss: 89.4205\n",
      "Epoch 10/30\n",
      "32/32 [==============================] - 0s 748us/step - loss: 86.0137\n",
      "Epoch 11/30\n",
      "32/32 [==============================] - 0s 873us/step - loss: 81.8482\n",
      "Epoch 12/30\n",
      "32/32 [==============================] - 0s 841us/step - loss: 77.0504\n",
      "Epoch 13/30\n",
      "32/32 [==============================] - 0s 904us/step - loss: 72.0370\n",
      "Epoch 14/30\n",
      "32/32 [==============================] - 0s 779us/step - loss: 66.5815\n",
      "Epoch 15/30\n",
      "32/32 [==============================] - 0s 966us/step - loss: 61.0060\n",
      "Epoch 16/30\n",
      "32/32 [==============================] - 0s 904us/step - loss: 55.9639\n",
      "Epoch 17/30\n",
      "32/32 [==============================] - 0s 873us/step - loss: 51.9024\n",
      "Epoch 18/30\n",
      "32/32 [==============================] - 0s 842us/step - loss: 48.8515\n",
      "Epoch 19/30\n",
      "32/32 [==============================] - 0s 654us/step - loss: 46.9430\n",
      "Epoch 20/30\n",
      "32/32 [==============================] - 0s 873us/step - loss: 45.9822\n",
      "Epoch 21/30\n",
      "32/32 [==============================] - 0s 841us/step - loss: 45.5009\n",
      "Epoch 22/30\n",
      "32/32 [==============================] - 0s 717us/step - loss: 45.1727\n",
      "Epoch 23/30\n",
      "32/32 [==============================] - 0s 592us/step - loss: 44.9449\n",
      "Epoch 24/30\n",
      "32/32 [==============================] - 0s 935us/step - loss: 44.8492\n",
      "Epoch 25/30\n",
      "32/32 [==============================] - 0s 654us/step - loss: 44.7729\n",
      "Epoch 26/30\n",
      "32/32 [==============================] - 0s 779us/step - loss: 44.7244\n",
      "Epoch 27/30\n",
      "32/32 [==============================] - 0s 841us/step - loss: 44.6834\n",
      "Epoch 28/30\n",
      "32/32 [==============================] - 0s 935us/step - loss: 44.6419\n",
      "Epoch 29/30\n",
      "32/32 [==============================] - 0s 686us/step - loss: 44.6213\n",
      "Epoch 30/30\n",
      "32/32 [==============================] - 0s 810us/step - loss: 44.5564\n"
     ]
    }
   ],
   "source": [
    "# Modelo\n",
    "model = tf.keras.models.Sequential([\n",
    "    tf.keras.layers.Flatten(input_dim = 9),\n",
    "    tf.keras.layers.Dense(8, activation='relu'),\n",
    "    tf.keras.layers.Dense(8, activation='relu'),\n",
    "    tf.keras.layers.Dense(1)\n",
    "])\n",
    "# Optimizador\n",
    "opt = tf.keras.optimizers.Adam(learning_rate=0.001)\n",
    "\n",
    "# Compilamos el modelo\n",
    "model.compile(loss=actual_loss, optimizer=opt)\n",
    "\n",
    "# Entrenamiento\n",
    "hist = model.fit(x[:1000], y[:1000], epochs=30)"
   ]
  },
  {
   "cell_type": "code",
   "execution_count": 9,
   "id": "43885908",
   "metadata": {},
   "outputs": [
    {
     "data": {
      "text/plain": [
       "<matplotlib.legend.Legend at 0x17f34778f70>"
      ]
     },
     "execution_count": 9,
     "metadata": {},
     "output_type": "execute_result"
    },
    {
     "data": {
      "image/png": "[encoded data removed]",
      "text/plain": [
       "<Figure size 432x288 with 1 Axes>"
      ]
     },
     "metadata": {
      "needs_background": "light"
     },
     "output_type": "display_data"
    }
   ],
   "source": [
    "plt.plot(hist.history['loss'], label=\"loss\")\n",
    "plt.ylabel('loss')\n",
    "plt.xlabel('epoch')\n",
    "plt.title('Evaluacion primer modelo')\n",
    "plt.legend()"
   ]
  },
  {
   "cell_type": "markdown",
   "id": "fdb3cb0e-6ed1-4a13-a391-4166ef00b2ed",
   "metadata": {},
   "source": [
    "### <font color=\"#004D7F\" size=4>Ejercicio 2</font>\n",
    "\n",
    "Vamos a complicar un poco más la arquitectura de la red:\n",
    "\n",
    "- **Configuración de la red**:\n",
    "    - Arquitectura de la red:\n",
    "        - *1º Capa*: capa de entrada donde indiques la dimensión de los datos.\n",
    "        - *2º Capa*: capa densa con 64 neuronas y función de activación *relu*.\n",
    "        - *3º Capa*: capa densa con 32 neuronas y función de activación *relu*.\n",
    "        - *4º Capa*: capa densa con 32 neuronas y función de activación *relu*.\n",
    "        - *5º Capa*: capa de salida con una neurona sin función de activación.\n",
    "        \n",
    "    - Tipo de entrenamiento:\n",
    "        - *Epochs*: 30\n",
    "        - *Optimizador*: *adam*\n",
    "        - *Learning Rate*: 0.001"
   ]
  },
  {
   "cell_type": "code",
   "execution_count": 10,
   "id": "e5c9b03d-ec66-4cfc-bcc5-8502b0bf6250",
   "metadata": {},
   "outputs": [
    {
     "name": "stdout",
     "output_type": "stream",
     "text": [
      "Epoch 1/30\n",
      "32/32 [==============================] - 0s 870us/step - loss: 99.8508\n",
      "Epoch 2/30\n",
      "32/32 [==============================] - 0s 904us/step - loss: 98.2494\n",
      "Epoch 3/30\n",
      "32/32 [==============================] - 0s 904us/step - loss: 92.1150\n",
      "Epoch 4/30\n",
      "32/32 [==============================] - 0s 904us/step - loss: 70.6909\n",
      "Epoch 5/30\n",
      "32/32 [==============================] - 0s 748us/step - loss: 47.5812\n",
      "Epoch 6/30\n",
      "32/32 [==============================] - 0s 935us/step - loss: 44.9279\n",
      "Epoch 7/30\n",
      "32/32 [==============================] - 0s 873us/step - loss: 44.6775\n",
      "Epoch 8/30\n",
      "32/32 [==============================] - 0s 1ms/step - loss: 44.3813\n",
      "Epoch 9/30\n",
      "32/32 [==============================] - 0s 717us/step - loss: 44.0593\n",
      "Epoch 10/30\n",
      "32/32 [==============================] - 0s 904us/step - loss: 43.7319\n",
      "Epoch 11/30\n",
      "32/32 [==============================] - 0s 904us/step - loss: 43.3135\n",
      "Epoch 12/30\n",
      "32/32 [==============================] - 0s 810us/step - loss: 42.9141\n",
      "Epoch 13/30\n",
      "32/32 [==============================] - 0s 935us/step - loss: 42.4454\n",
      "Epoch 14/30\n",
      "32/32 [==============================] - 0s 873us/step - loss: 42.1082\n",
      "Epoch 15/30\n",
      "32/32 [==============================] - 0s 872us/step - loss: 41.3377\n",
      "Epoch 16/30\n",
      "32/32 [==============================] - ETA: 0s - loss: 50.88 - 0s 1ms/step - loss: 40.8011\n",
      "Epoch 17/30\n",
      "32/32 [==============================] - 0s 997us/step - loss: 40.1283\n",
      "Epoch 18/30\n",
      "32/32 [==============================] - 0s 966us/step - loss: 39.2904\n",
      "Epoch 19/30\n",
      "32/32 [==============================] - 0s 1ms/step - loss: 38.4992\n",
      "Epoch 20/30\n",
      "32/32 [==============================] - 0s 1ms/step - loss: 37.5819\n",
      "Epoch 21/30\n",
      "32/32 [==============================] - 0s 935us/step - loss: 36.5901\n",
      "Epoch 22/30\n",
      "32/32 [==============================] - 0s 841us/step - loss: 35.6311\n",
      "Epoch 23/30\n",
      "32/32 [==============================] - 0s 810us/step - loss: 34.6121\n",
      "Epoch 24/30\n",
      "32/32 [==============================] - 0s 717us/step - loss: 33.4421\n",
      "Epoch 25/30\n",
      "32/32 [==============================] - 0s 935us/step - loss: 32.4470\n",
      "Epoch 26/30\n",
      "32/32 [==============================] - 0s 873us/step - loss: 31.4333\n",
      "Epoch 27/30\n",
      "32/32 [==============================] - 0s 904us/step - loss: 30.6807\n",
      "Epoch 28/30\n",
      "32/32 [==============================] - 0s 748us/step - loss: 29.7553\n",
      "Epoch 29/30\n",
      "32/32 [==============================] - 0s 748us/step - loss: 29.0752\n",
      "Epoch 30/30\n",
      "32/32 [==============================] - 0s 873us/step - loss: 28.3400\n"
     ]
    }
   ],
   "source": [
    "# Modelo\n",
    "model = tf.keras.models.Sequential([\n",
    "    tf.keras.layers.Flatten (input_dim=9),\n",
    "    tf.keras.layers.Dense (64, activation='relu'),\n",
    "    tf.keras.layers.Dense (32, activation='relu'),\n",
    "    tf.keras.layers.Dense (32, activation='relu'),\n",
    "    tf.keras.layers.Dense(1)\n",
    "])\n",
    "\n",
    "# Optimizadores\n",
    "opt = tf.keras.optimizers.Adam (learning_rate=0.001)\n",
    "# Compilamos el modelo\n",
    "model.compile(loss=actual_loss, optimizer=opt)\n",
    "# Entrenamos el modelo\n",
    "hist1 = model.fit (x[:1000],y[:1000],epochs=30)"
   ]
  },
  {
   "cell_type": "code",
   "execution_count": 11,
   "id": "dccb68e7",
   "metadata": {},
   "outputs": [
    {
     "data": {
      "text/plain": [
       "<matplotlib.legend.Legend at 0x17f361d0d00>"
      ]
     },
     "execution_count": 11,
     "metadata": {},
     "output_type": "execute_result"
    },
    {
     "data": {
      "image/png": "[encoded data removed]",
      "text/plain": [
       "<Figure size 432x288 with 1 Axes>"
      ]
     },
     "metadata": {
      "needs_background": "light"
     },
     "output_type": "display_data"
    }
   ],
   "source": [
    "plt.plot(hist1.history['loss'], label=\"loss\")\n",
    "plt.ylabel('loss')\n",
    "plt.xlabel('epoch')\n",
    "plt.title('Evaluacion segundo modelo')\n",
    "plt.legend()"
   ]
  },
  {
   "cell_type": "markdown",
   "id": "5a95d5de-4044-46f0-a5c1-18e9a1514c55",
   "metadata": {},
   "source": [
    "### <font color=\"#004D7F\" size=4>Ejercicio 3</font>\n",
    "\n",
    "Vamos a complicar aun más la arquitectura de la red:\n",
    "\n",
    "- **Configuración de la red**:\n",
    "    - Arquitectura de la red:\n",
    "        - *1º Capa*: capa de entrada donde indiques la dimensión de los datos.\n",
    "        - *2º Capa*: capa densa con 128 neuronas y función de activación *relu*.\n",
    "        - *3º Capa*: capa densa con 64 neuronas y función de activación *relu*.\n",
    "        - *4º Capa*: capa densa con 32 neuronas y función de activación *relu*.\n",
    "        - *5º Capa*: capa densa con 16 neuronas y función de activación *relu*.\n",
    "        - *6º Capa*: capa de salida con una neurona sin función de activación.\n",
    "        \n",
    "    - Tipo de entrenamiento:\n",
    "        - *Epochs*: 30\n",
    "        - *Optimizador*: *adam*\n",
    "        - *Learning Rate*: 0.001"
   ]
  },
  {
   "cell_type": "code",
   "execution_count": 12,
   "id": "038f48ba-ed0f-44d1-a57c-ceca899347af",
   "metadata": {},
   "outputs": [
    {
     "name": "stdout",
     "output_type": "stream",
     "text": [
      "Epoch 1/30\n",
      "32/32 [==============================] - 0s 1ms/step - loss: 98.7063\n",
      "Epoch 2/30\n",
      "32/32 [==============================] - 0s 966us/step - loss: 86.3583\n",
      "Epoch 3/30\n",
      "32/32 [==============================] - 0s 904us/step - loss: 50.2804\n",
      "Epoch 4/30\n",
      "32/32 [==============================] - 0s 935us/step - loss: 44.5748\n",
      "Epoch 5/30\n",
      "32/32 [==============================] - 0s 935us/step - loss: 43.9659\n",
      "Epoch 6/30\n",
      "32/32 [==============================] - 0s 873us/step - loss: 43.2558\n",
      "Epoch 7/30\n",
      "32/32 [==============================] - 0s 779us/step - loss: 42.4899\n",
      "Epoch 8/30\n",
      "32/32 [==============================] - 0s 966us/step - loss: 41.9594\n",
      "Epoch 9/30\n",
      "32/32 [==============================] - ETA: 0s - loss: 37.69 - 0s 935us/step - loss: 40.6187\n",
      "Epoch 10/30\n",
      "32/32 [==============================] - 0s 810us/step - loss: 39.5077\n",
      "Epoch 11/30\n",
      "32/32 [==============================] - 0s 842us/step - loss: 38.0250\n",
      "Epoch 12/30\n",
      "32/32 [==============================] - 0s 810us/step - loss: 36.3710\n",
      "Epoch 13/30\n",
      "32/32 [==============================] - 0s 1ms/step - loss: 34.4040\n",
      "Epoch 14/30\n",
      "32/32 [==============================] - 0s 873us/step - loss: 32.5552\n",
      "Epoch 15/30\n",
      "32/32 [==============================] - 0s 842us/step - loss: 31.2088\n",
      "Epoch 16/30\n",
      "32/32 [==============================] - 0s 997us/step - loss: 29.0730\n",
      "Epoch 17/30\n",
      "32/32 [==============================] - 0s 779us/step - loss: 28.0643\n",
      "Epoch 18/30\n",
      "32/32 [==============================] - 0s 810us/step - loss: 27.3553\n",
      "Epoch 19/30\n",
      "32/32 [==============================] - 0s 904us/step - loss: 27.0870\n",
      "Epoch 20/30\n",
      "32/32 [==============================] - 0s 873us/step - loss: 26.9460\n",
      "Epoch 21/30\n",
      "32/32 [==============================] - 0s 1ms/step - loss: 26.7171\n",
      "Epoch 22/30\n",
      "32/32 [==============================] - 0s 841us/step - loss: 26.7142\n",
      "Epoch 23/30\n",
      "32/32 [==============================] - 0s 842us/step - loss: 26.7153\n",
      "Epoch 24/30\n",
      "32/32 [==============================] - 0s 841us/step - loss: 26.4293\n",
      "Epoch 25/30\n",
      "32/32 [==============================] - 0s 966us/step - loss: 26.2077\n",
      "Epoch 26/30\n",
      "32/32 [==============================] - 0s 810us/step - loss: 26.1128\n",
      "Epoch 27/30\n",
      "32/32 [==============================] - 0s 1ms/step - loss: 25.7759\n",
      "Epoch 28/30\n",
      "32/32 [==============================] - 0s 966us/step - loss: 25.6920\n",
      "Epoch 29/30\n",
      "32/32 [==============================] - 0s 810us/step - loss: 25.6591\n",
      "Epoch 30/30\n",
      "32/32 [==============================] - 0s 966us/step - loss: 25.6915\n"
     ]
    }
   ],
   "source": [
    "# Modelo\n",
    "model = tf.keras.models.Sequential([\n",
    "    tf.keras.layers.Flatten(input_dim=9),\n",
    "    tf.keras.layers.Dense(128, activation='relu'),\n",
    "    tf.keras.layers.Dense(64, activation='relu'),\n",
    "    tf.keras.layers.Dense(32, activation='relu'),\n",
    "    tf.keras.layers.Dense(16, activation='relu'),\n",
    "    tf.keras.layers.Dense(1)\n",
    "])\n",
    "# Optimizadores\n",
    "opt = tf.keras.optimizers.Adam (learning_rate=0.001)\n",
    "# Compilamos el modelo\n",
    "model.compile (loss=actual_loss, optimizer=opt)\n",
    "# Entrenamos el modelo\n",
    "hist2 = model.fit (x[:1000], y[:1000], epochs=30)"
   ]
  },
  {
   "cell_type": "code",
   "execution_count": 13,
   "id": "1651080c",
   "metadata": {},
   "outputs": [
    {
     "data": {
      "text/plain": [
       "<matplotlib.legend.Legend at 0x17f362b7df0>"
      ]
     },
     "execution_count": 13,
     "metadata": {},
     "output_type": "execute_result"
    },
    {
     "data": {
      "image/png": "[encoded data removed]",
      "text/plain": [
       "<Figure size 432x288 with 1 Axes>"
      ]
     },
     "metadata": {
      "needs_background": "light"
     },
     "output_type": "display_data"
    }
   ],
   "source": [
    "plt.plot(hist2.history['loss'], label=\"loss\")\n",
    "plt.ylabel('loss')\n",
    "plt.xlabel('epoch')\n",
    "plt.title('Evaluacion tercer modelo')\n",
    "plt.legend()"
   ]
  },
  {
   "cell_type": "markdown",
   "id": "16c6b16e-38c3-4535-a833-6c7f30195d97",
   "metadata": {},
   "source": [
    "### <font color=\"#004D7F\" size=4>Ejercicio 4</font>\n",
    "\n",
    "Vamos a hacer una última red con más capas y neuronas:\n",
    "\n",
    "- **Configuración de la red**:\n",
    "    - Arquitectura de la red:\n",
    "        - *1º Capa*: capa de entrada donde indiques la dimensión de los datos.\n",
    "        - *2º Capa*: capa densa con 1024 neuronas y función de activación *relu*.\n",
    "        - *3º Capa*: capa densa con 512 neuronas y función de activación *relu*.\n",
    "        - *4º Capa*: capa densa con 256 neuronas y función de activación *relu*.\n",
    "        - *5º Capa*: capa densa con 128 neuronas y función de activación *relu*.\n",
    "        - *6º Capa*: capa densa con 64 neuronas y función de activación *relu*.\n",
    "        - *7º Capa*: capa densa con 32 neuronas y función de activación *relu*.\n",
    "        - *8º Capa*: capa densa con 16 neuronas y función de activación *relu*.\n",
    "        - *9º Capa*: capa de salida con una neurona sin función de activación.\n",
    "        \n",
    "    - Tipo de entrenamiento:\n",
    "        - *Epochs*: 30\n",
    "        - *Optimizador*: *adam*\n",
    "        - *Learning Rate*: 0.001"
   ]
  },
  {
   "cell_type": "code",
   "execution_count": 14,
   "id": "a734f432-b266-41e3-8b57-1cffdd59a8d9",
   "metadata": {},
   "outputs": [
    {
     "name": "stdout",
     "output_type": "stream",
     "text": [
      "Epoch 1/30\n",
      "32/32 [==============================] - 0s 10ms/step - loss: 81.2478\n",
      "Epoch 2/30\n",
      "32/32 [==============================] - 0s 10ms/step - loss: 44.7962\n",
      "Epoch 3/30\n",
      "32/32 [==============================] - 0s 10ms/step - loss: 41.5940\n",
      "Epoch 4/30\n",
      "32/32 [==============================] - 0s 9ms/step - loss: 37.6433\n",
      "Epoch 5/30\n",
      "32/32 [==============================] - 0s 9ms/step - loss: 32.3089\n",
      "Epoch 6/30\n",
      "32/32 [==============================] - 0s 9ms/step - loss: 29.8943\n",
      "Epoch 7/30\n",
      "32/32 [==============================] - 0s 9ms/step - loss: 28.6095\n",
      "Epoch 8/30\n",
      "32/32 [==============================] - 0s 9ms/step - loss: 27.7743\n",
      "Epoch 9/30\n",
      "32/32 [==============================] - 0s 9ms/step - loss: 26.2536\n",
      "Epoch 10/30\n",
      "32/32 [==============================] - 0s 9ms/step - loss: 25.7434\n",
      "Epoch 11/30\n",
      "32/32 [==============================] - 0s 9ms/step - loss: 25.9584\n",
      "Epoch 12/30\n",
      "32/32 [==============================] - 0s 9ms/step - loss: 25.5977\n",
      "Epoch 13/30\n",
      "32/32 [==============================] - 0s 10ms/step - loss: 25.4856\n",
      "Epoch 14/30\n",
      "32/32 [==============================] - 0s 9ms/step - loss: 26.7178\n",
      "Epoch 15/30\n",
      "32/32 [==============================] - 0s 9ms/step - loss: 25.1970\n",
      "Epoch 16/30\n",
      "32/32 [==============================] - 0s 8ms/step - loss: 24.9112\n",
      "Epoch 17/30\n",
      "32/32 [==============================] - 0s 9ms/step - loss: 23.8672\n",
      "Epoch 18/30\n",
      "32/32 [==============================] - 0s 9ms/step - loss: 23.7673\n",
      "Epoch 19/30\n",
      "32/32 [==============================] - 0s 9ms/step - loss: 23.4350\n",
      "Epoch 20/30\n",
      "32/32 [==============================] - 0s 9ms/step - loss: 24.1181\n",
      "Epoch 21/30\n",
      "32/32 [==============================] - 0s 9ms/step - loss: 22.3893\n",
      "Epoch 22/30\n",
      "32/32 [==============================] - 0s 9ms/step - loss: 22.5864\n",
      "Epoch 23/30\n",
      "32/32 [==============================] - 0s 8ms/step - loss: 22.4182\n",
      "Epoch 24/30\n",
      "32/32 [==============================] - 0s 9ms/step - loss: 23.9517\n",
      "Epoch 25/30\n",
      "32/32 [==============================] - 0s 9ms/step - loss: 22.7945\n",
      "Epoch 26/30\n",
      "32/32 [==============================] - 0s 8ms/step - loss: 21.8729\n",
      "Epoch 27/30\n",
      "32/32 [==============================] - 0s 9ms/step - loss: 20.7501\n",
      "Epoch 28/30\n",
      "32/32 [==============================] - 0s 9ms/step - loss: 21.2165\n",
      "Epoch 29/30\n",
      "32/32 [==============================] - 0s 9ms/step - loss: 21.3123\n",
      "Epoch 30/30\n",
      "32/32 [==============================] - 0s 9ms/step - loss: 21.0716\n"
     ]
    }
   ],
   "source": [
    "# Modelo\n",
    "model = tf.keras.models.Sequential ([\n",
    "    tf.keras.layers.Flatten(input_dim=9),\n",
    "    tf.keras.layers.Dense(1024, activation='relu'),\n",
    "    tf.keras.layers.Dense(512, activation='relu'),\n",
    "    tf.keras.layers.Dense(256, activation='relu'),\n",
    "    tf.keras.layers.Dense(128, activation='relu'),\n",
    "    tf.keras.layers.Dense(64, activation='relu'),\n",
    "    tf.keras.layers.Dense(32, activation='relu'),\n",
    "    tf.keras.layers.Dense(16, activation='relu'),\n",
    "    tf.keras.layers.Dense(1)\n",
    "    ])\n",
    "# Optimizadores\n",
    "opt = tf.keras.optimizers.Adam (learning_rate=0.001)\n",
    "# Compilamos el modelo\n",
    "model.compile (loss=actual_loss, optimizer=opt)\n",
    "# Entrenamiento\n",
    "hist3 = model.fit (x[:1000], y[:1000], epochs=30)"
   ]
  },
  {
   "cell_type": "code",
   "execution_count": 15,
   "id": "f9c68f9e",
   "metadata": {},
   "outputs": [
    {
     "data": {
      "text/plain": [
       "<matplotlib.legend.Legend at 0x17f36a833d0>"
      ]
     },
     "execution_count": 15,
     "metadata": {},
     "output_type": "execute_result"
    },
    {
     "data": {
      "image/png": "[encoded data removed]",
      "text/plain": [
       "<Figure size 432x288 with 1 Axes>"
      ]
     },
     "metadata": {
      "needs_background": "light"
     },
     "output_type": "display_data"
    }
   ],
   "source": [
    "plt.plot(hist3.history['loss'], label=\"loss\")\n",
    "plt.ylabel('loss')\n",
    "plt.xlabel('epoch')\n",
    "plt.title('Evaluacion cuarto modelo')\n",
    "plt.legend()"
   ]
  },
  {
   "cell_type": "code",
   "execution_count": 16,
   "id": "8d622d1e",
   "metadata": {},
   "outputs": [
    {
     "data": {
      "text/plain": [
       "<matplotlib.legend.Legend at 0x17f36abfc40>"
      ]
     },
     "execution_count": 16,
     "metadata": {},
     "output_type": "execute_result"
    },
    {
     "data": {
      "image/png": "[encoded data removed]",
      "text/plain": [
       "<Figure size 432x288 with 1 Axes>"
      ]
     },
     "metadata": {
      "needs_background": "light"
     },
     "output_type": "display_data"
    }
   ],
   "source": [
    "plt.plot(hist.history['loss'],label=\"Modelo 1\")\n",
    "plt.plot(hist1.history['loss'],label=\"Modelo 2\")\n",
    "plt.plot(hist2.history['loss'],label=\"Modelo 3\")\n",
    "plt.plot(hist3.history['loss'],label=\"Modelo 4\")\n",
    "plt.title('Comparativa rendimiento de los modelos')\n",
    "plt.ylabel('loss')\n",
    "plt.xlabel('epoch')\n",
    "plt.legend()"
   ]
  },
  {
   "cell_type": "markdown",
   "id": "0b11325a",
   "metadata": {},
   "source": [
    "Fig. 1 : gráfica comparativa de los 4 modelos. Se observa que el Modelo 4 es el de mejor rendimiento, y es la red neuronal de mayor complejidad."
   ]
  },
  {
   "cell_type": "markdown",
   "id": "22d5229a-67db-44b9-ace7-a7878b6ca373",
   "metadata": {},
   "source": [
    "### <font color=\"#004D7F\" size=4>Ejercicio 5</font>\n",
    "Compara los resultados obtenidos en cada una de las arquitecturas definidas y quédate con la mejor. **¿En qué experimento se obtiene los mejores resultados?**\n",
    "\n",
    "La arquitectura elegida la usaremos en el caso práctico para seguir ajustando nuestro modelo y alcanzar un buen rendimiento."
   ]
  },
  {
   "cell_type": "markdown",
   "id": "fb45c5a3",
   "metadata": {},
   "source": [
    "**Por los resultados obtenidos, de acuerdo a nuestra función de coste\n",
    "mean_absolute_percentage_error, donde este error debe variar entre los valores 100 y 0, el\n",
    "mejor modelo es el último. Es el modelo con mayor número de capas y con mayor complejidad,\n",
    "sin modificar el número de epochs o el learning rate de 0.001.**"
   ]
  },
  {
   "cell_type": "markdown",
   "id": "2f38ec3e-3d9e-4b52-a9c2-40a4f8857e6f",
   "metadata": {
    "id": "54a43b29-029b-442d-94b0-c63c49a66ff4"
   },
   "source": [
    "## 3. Elegimos un Optimizer."
   ]
  },
  {
   "cell_type": "markdown",
   "id": "ed8c324c-5701-442e-9127-e1891e88e475",
   "metadata": {},
   "source": [
    "Hemos establecido Adam en los entrenamientos anteriores. Vamos a comprobarlo para el conjunto de validación como funciona y después probaremos a usar un optimizador SGD."
   ]
  },
  {
   "cell_type": "markdown",
   "id": "17f6353c-328c-46ab-8b48-53ad5da43948",
   "metadata": {
    "tags": []
   },
   "source": [
    "### <font color=\"#004D7F\" size=4>Ejercicio 6</font>\n",
    "\n",
    "Usa la mejor arquitectura y configuración de entrenamiento de los ejercicios anteriores y entrena con la siguiente configuración:\n",
    "\n",
    "- Usa un `validation_split` de 0.2\n",
    "- Utiliza todos los datos y no solo 1000.\n",
    "- Usa 5 epochs en total."
   ]
  },
  {
   "cell_type": "code",
   "execution_count": 17,
   "id": "7bdad0c5-e32f-42c3-a00b-8adae93b2997",
   "metadata": {},
   "outputs": [
    {
     "name": "stdout",
     "output_type": "stream",
     "text": [
      "Epoch 1/5\n",
      "511/511 [==============================] - 5s 10ms/step - loss: 48.0911 - val_loss: 47.7334\n",
      "Epoch 2/5\n",
      "511/511 [==============================] - 5s 10ms/step - loss: 40.5480 - val_loss: 43.3151\n",
      "Epoch 3/5\n",
      "511/511 [==============================] - 5s 10ms/step - loss: 36.9055 - val_loss: 40.8352\n",
      "Epoch 4/5\n",
      "511/511 [==============================] - 5s 10ms/step - loss: 34.8988 - val_loss: 34.8591\n",
      "Epoch 5/5\n",
      "511/511 [==============================] - 5s 10ms/step - loss: 33.2604 - val_loss: 34.7401\n"
     ]
    }
   ],
   "source": [
    "# Modelo\n",
    "model = tf.keras.models.Sequential ([\n",
    "    tf.keras.layers.Flatten(input_dim=9),\n",
    "    tf.keras.layers.Dense(1024, activation='relu'),\n",
    "    tf.keras.layers.Dense(512, activation='relu'),\n",
    "    tf.keras.layers.Dense(256, activation='relu'),\n",
    "    tf.keras.layers.Dense(128, activation='relu'),\n",
    "    tf.keras.layers.Dense(64, activation='relu'),\n",
    "    tf.keras.layers.Dense(32, activation='relu'),\n",
    "    tf.keras.layers.Dense(16, activation='relu'),\n",
    "    tf.keras.layers.Dense(1)\n",
    "    ])\n",
    "# Optimizadores\n",
    "opt = tf.keras.optimizers.Adam (learning_rate=0.001)\n",
    "# Compilamos el modelo\n",
    "model.compile (loss=actual_loss, optimizer=opt)\n",
    "# Entrenamiento\n",
    "hist4 = model.fit (x, y, validation_split = 0.2, epochs=5)"
   ]
  },
  {
   "cell_type": "code",
   "execution_count": 18,
   "id": "bad2a8c6",
   "metadata": {},
   "outputs": [
    {
     "data": {
      "text/plain": [
       "<matplotlib.legend.Legend at 0x17f38744e80>"
      ]
     },
     "execution_count": 18,
     "metadata": {},
     "output_type": "execute_result"
    },
    {
     "data": {
      "image/png": "[encoded data removed]",
      "text/plain": [
       "<Figure size 432x288 with 1 Axes>"
      ]
     },
     "metadata": {
      "needs_background": "light"
     },
     "output_type": "display_data"
    }
   ],
   "source": [
    "plt.plot(hist4.history['loss'], label=\"loss\")\n",
    "plt.plot(hist4.history['val_loss'], label=\"val_loss\")\n",
    "plt.ylabel('loss')\n",
    "plt.xlabel('epoch')\n",
    "plt.title('Optimizador ADAM')\n",
    "plt.legend()"
   ]
  },
  {
   "cell_type": "markdown",
   "id": "56a927c1-3ca7-431a-90d1-e9554c0d6dcb",
   "metadata": {
    "tags": []
   },
   "source": [
    "### <font color=\"#004D7F\" size=4>Ejercicio 7</font>\n",
    "\n",
    "Realiza el mismo entrenamiento que el ejercicio anterior pero usa un optimizador **SGD** en lugar de un Adam."
   ]
  },
  {
   "cell_type": "code",
   "execution_count": 19,
   "id": "8ca696c2-cdce-4391-9d81-20d768bf0537",
   "metadata": {},
   "outputs": [
    {
     "name": "stdout",
     "output_type": "stream",
     "text": [
      "Epoch 1/5\n",
      "511/511 [==============================] - 4s 8ms/step - loss: 99.9666 - val_loss: 99.9313\n",
      "Epoch 2/5\n",
      "511/511 [==============================] - 4s 8ms/step - loss: 99.6362 - val_loss: 98.1945\n",
      "Epoch 3/5\n",
      "511/511 [==============================] - 4s 9ms/step - loss: 61.7194 - val_loss: 56.4915\n",
      "Epoch 4/5\n",
      "511/511 [==============================] - 4s 8ms/step - loss: 56.3241 - val_loss: 56.1828\n",
      "Epoch 5/5\n",
      "511/511 [==============================] - 4s 8ms/step - loss: 55.1615 - val_loss: 54.0471\n"
     ]
    }
   ],
   "source": [
    "# Modelo\n",
    "model = tf.keras.models.Sequential ([\n",
    "    tf.keras.layers.Flatten(input_dim=9),\n",
    "    tf.keras.layers.Dense(1024, activation='relu'),\n",
    "    tf.keras.layers.Dense(512, activation='relu'),\n",
    "    tf.keras.layers.Dense(256, activation='relu'),\n",
    "    tf.keras.layers.Dense(128, activation='relu'),\n",
    "    tf.keras.layers.Dense(64, activation='relu'),\n",
    "    tf.keras.layers.Dense(32, activation='relu'),\n",
    "    tf.keras.layers.Dense(16, activation='relu'),\n",
    "    tf.keras.layers.Dense(1)\n",
    "    ])\n",
    "# Optimizadores\n",
    "opt = tf.keras.optimizers.SGD (learning_rate=0.001)\n",
    "# Compilamos el modelo\n",
    "model.compile (loss=actual_loss, optimizer=opt)\n",
    "# Entrenamiento\n",
    "hist5 = model.fit (x, y, validation_split = 0.2, epochs=5)"
   ]
  },
  {
   "cell_type": "code",
   "execution_count": 20,
   "id": "7ab5d939",
   "metadata": {},
   "outputs": [
    {
     "data": {
      "text/plain": [
       "<matplotlib.legend.Legend at 0x17f39a95df0>"
      ]
     },
     "execution_count": 20,
     "metadata": {},
     "output_type": "execute_result"
    },
    {
     "data": {
      "image/png": "[encoded data removed]",
      "text/plain": [
       "<Figure size 432x288 with 1 Axes>"
      ]
     },
     "metadata": {
      "needs_background": "light"
     },
     "output_type": "display_data"
    }
   ],
   "source": [
    "plt.plot(hist5.history['loss'], label=\"loss\")\n",
    "plt.plot(hist5.history['val_loss'], label=\"val_loss\")\n",
    "plt.ylabel('loss')\n",
    "plt.xlabel('epoch')\n",
    "plt.title('Optimizador SGD')\n",
    "plt.legend()"
   ]
  },
  {
   "cell_type": "markdown",
   "id": "e1964d40-54a1-4b33-83d0-f0102ffbc267",
   "metadata": {
    "tags": []
   },
   "source": [
    "### <font color=\"#004D7F\" size=4>Ejercicio 8</font>\n",
    "\n",
    "**¿Qué optimizador ha funcionado mejor?**\n",
    "\n",
    "El optimizador que eligas tendrás que usarlo en los siguientes ejercicios."
   ]
  },
  {
   "cell_type": "markdown",
   "id": "e5d0f9fb",
   "metadata": {},
   "source": [
    "**El optimizador que mejor funciona en este caso es el optimizador Adam. Si bien se observa que en los primeros epochs presenta overfitting, la tendencia de la curva es hacia un buen funcionamiento. En cambio, con el optimizador SGD, presenta un buen rendimiento en los primeros epochs, a partir del 3er epoch presenta una gran tendencia al overfitting. Utilizaremos en este caso el optimizador Adam.**"
   ]
  },
  {
   "cell_type": "markdown",
   "id": "77b03e79-c55c-48dd-815b-26536ed2923d",
   "metadata": {
    "id": "8f523d48-fae0-4ed6-9fe8-43727ccd0f3b"
   },
   "source": [
    "## 4. Probar diferentes configuraciones con un número pequeño de epochs.\n",
    "\n",
    "Vamos a realizar diferentes experimentos cambiando el learning rate de nuestro optimizador."
   ]
  },
  {
   "cell_type": "markdown",
   "id": "5c01a951-e821-4346-b159-0bce6f98b133",
   "metadata": {
    "tags": []
   },
   "source": [
    "### <font color=\"#004D7F\" size=4>Ejercicio 9</font>\n",
    "\n",
    "Realiza un entrenamiento con la arquitectura y el optimizador que mejor te ha funcionado y utilizar un **learning rate de 0.1**."
   ]
  },
  {
   "cell_type": "code",
   "execution_count": 21,
   "id": "58be2b19-aece-4194-86d9-254528c54bf1",
   "metadata": {},
   "outputs": [
    {
     "name": "stdout",
     "output_type": "stream",
     "text": [
      "Epoch 1/5\n",
      "511/511 [==============================] - 5s 10ms/step - loss: 246.3777 - val_loss: 99.9685\n",
      "Epoch 2/5\n",
      "511/511 [==============================] - 5s 10ms/step - loss: 99.9490 - val_loss: 99.9367\n",
      "Epoch 3/5\n",
      "511/511 [==============================] - 5s 10ms/step - loss: 99.9148 - val_loss: 99.9048\n",
      "Epoch 4/5\n",
      "511/511 [==============================] - 5s 10ms/step - loss: 99.8805 - val_loss: 99.8729\n",
      "Epoch 5/5\n",
      "511/511 [==============================] - 5s 10ms/step - loss: 99.8462 - val_loss: 99.8409\n"
     ]
    }
   ],
   "source": [
    "# Modelo\n",
    "model = tf.keras.models.Sequential ([\n",
    "    tf.keras.layers.Flatten(input_dim=9),\n",
    "    tf.keras.layers.Dense(1024, activation='relu'),\n",
    "    tf.keras.layers.Dense(512, activation='relu'),\n",
    "    tf.keras.layers.Dense(256, activation='relu'),\n",
    "    tf.keras.layers.Dense(128, activation='relu'),\n",
    "    tf.keras.layers.Dense(64, activation='relu'),\n",
    "    tf.keras.layers.Dense(32, activation='relu'),\n",
    "    tf.keras.layers.Dense(16, activation='relu'),\n",
    "    tf.keras.layers.Dense(1)\n",
    "    ])\n",
    "# Optimizadores\n",
    "opt = tf.keras.optimizers.Adam (learning_rate=0.1)\n",
    "# Compilamos el modelo\n",
    "model.compile (loss=actual_loss, optimizer=opt)\n",
    "# Entrenamiento\n",
    "hist6 = model.fit (x, y, validation_split = 0.2, epochs=5)"
   ]
  },
  {
   "cell_type": "code",
   "execution_count": 22,
   "id": "6d840f35",
   "metadata": {},
   "outputs": [
    {
     "data": {
      "text/plain": [
       "<matplotlib.legend.Legend at 0x17f3a347f70>"
      ]
     },
     "execution_count": 22,
     "metadata": {},
     "output_type": "execute_result"
    },
    {
     "data": {
      "image/png": "[encoded data removed]",
      "text/plain": [
       "<Figure size 432x288 with 1 Axes>"
      ]
     },
     "metadata": {
      "needs_background": "light"
     },
     "output_type": "display_data"
    }
   ],
   "source": [
    "plt.plot(hist6.history['loss'], label=\"loss\")\n",
    "plt.plot(hist6.history['val_loss'], label=\"val_loss\")\n",
    "plt.ylabel('loss')\n",
    "plt.xlabel('epoch')\n",
    "plt.title('Evaluacion con learning rate 0.1')\n",
    "plt.legend()"
   ]
  },
  {
   "cell_type": "markdown",
   "id": "464a5792-743d-43f6-8cdd-651ad86309a1",
   "metadata": {
    "tags": []
   },
   "source": [
    "### <font color=\"#004D7F\" size=4>Ejercicio 10</font>\n",
    "\n",
    "Realiza el mismo entrenamiento que el ejercicio anterior pero esta vez usa un **learning rate de 0.0001**."
   ]
  },
  {
   "cell_type": "code",
   "execution_count": 23,
   "id": "fc098f90-e0e6-4984-8d2c-daf290f41f49",
   "metadata": {},
   "outputs": [
    {
     "name": "stdout",
     "output_type": "stream",
     "text": [
      "Epoch 1/5\n",
      "511/511 [==============================] - 4s 8ms/step - loss: 100.0116 - val_loss: 100.0037\n",
      "Epoch 2/5\n",
      "511/511 [==============================] - 4s 9ms/step - loss: 99.9998 - val_loss: 99.9967\n",
      "Epoch 3/5\n",
      "511/511 [==============================] - 4s 9ms/step - loss: 99.9929 - val_loss: 99.9902\n",
      "Epoch 4/5\n",
      "511/511 [==============================] - 4s 8ms/step - loss: 99.9863 - val_loss: 99.9846\n",
      "Epoch 5/5\n",
      "511/511 [==============================] - 4s 8ms/step - loss: 99.9800 - val_loss: 99.9784\n"
     ]
    }
   ],
   "source": [
    "# Modelo\n",
    "model = tf.keras.models.Sequential ([\n",
    "    tf.keras.layers.Flatten(input_dim=9),\n",
    "    tf.keras.layers.Dense(1024, activation='relu'),\n",
    "    tf.keras.layers.Dense(512, activation='relu'),\n",
    "    tf.keras.layers.Dense(256, activation='relu'),\n",
    "    tf.keras.layers.Dense(128, activation='relu'),\n",
    "    tf.keras.layers.Dense(64, activation='relu'),\n",
    "    tf.keras.layers.Dense(32, activation='relu'),\n",
    "    tf.keras.layers.Dense(16, activation='relu'),\n",
    "    tf.keras.layers.Dense(1)\n",
    "    ])\n",
    "# Optimizadores\n",
    "opt = tf.keras.optimizers.SGD (learning_rate=0.0001)\n",
    "# Compilamos el modelo\n",
    "model.compile (loss=actual_loss, optimizer=opt)\n",
    "# Entrenamiento\n",
    "hist7 = model.fit (x, y, validation_split = 0.2, epochs=5)"
   ]
  },
  {
   "cell_type": "code",
   "execution_count": 24,
   "id": "86cd33c0",
   "metadata": {},
   "outputs": [
    {
     "data": {
      "text/plain": [
       "<matplotlib.legend.Legend at 0x17f3bc37b20>"
      ]
     },
     "execution_count": 24,
     "metadata": {},
     "output_type": "execute_result"
    },
    {
     "data": {
      "image/png": "[encoded data removed]",
      "text/plain": [
       "<Figure size 432x288 with 1 Axes>"
      ]
     },
     "metadata": {
      "needs_background": "light"
     },
     "output_type": "display_data"
    }
   ],
   "source": [
    "plt.plot(hist7.history['loss'], label=\"loss\")\n",
    "plt.plot(hist7.history['val_loss'], label=\"val_loss\")\n",
    "plt.ylabel('loss')\n",
    "plt.xlabel('epoch')\n",
    "plt.title('Evaluacion learning rate 0.0001')\n",
    "plt.legend()"
   ]
  },
  {
   "cell_type": "markdown",
   "id": "05214e09-3642-488e-9499-1659520cb329",
   "metadata": {
    "id": "8f523d48-fae0-4ed6-9fe8-43727ccd0f3b"
   },
   "source": [
    "## 5. Ajuste refinado de los parámetros con más epochs. [Opcional]\n",
    "\n",
    "Por último vamos a realizar un entrenamiento más largo para ver hasta donde llega el rendimiento de nuestro modelo."
   ]
  },
  {
   "cell_type": "markdown",
   "id": "bce78f8d-3b8e-4450-8d7e-3545682b87e6",
   "metadata": {
    "tags": []
   },
   "source": [
    "### <font color=\"#004D7F\" size=4>Ejercicio 11 [Opcional]</font> \n",
    "\n",
    "**¿Entre los entrenamientos usando learning rates igual a 0.001, 0.1 y 0.0001 cual ha funcionado mejor?**\n",
    "\n",
    "\n",
    "Con el experimento que mejor haya funcionado haz un entrenamiento usando 30 epochs y ver que tal funciona el entrenamiento con más epochs."
   ]
  },
  {
   "cell_type": "code",
   "execution_count": 25,
   "id": "6338d459-1108-44c9-b966-2de7d4d048ef",
   "metadata": {},
   "outputs": [
    {
     "data": {
      "text/plain": [
       "<matplotlib.legend.Legend at 0x17f3c2df580>"
      ]
     },
     "execution_count": 25,
     "metadata": {},
     "output_type": "execute_result"
    },
    {
     "data": {
      "image/png": "[encoded data removed]",
      "text/plain": [
       "<Figure size 1080x720 with 3 Axes>"
      ]
     },
     "metadata": {
      "needs_background": "light"
     },
     "output_type": "display_data"
    }
   ],
   "source": [
    "plt.figure (figsize=(15,10))\n",
    "plt.suptitle (\"Comparación entre entrenamientos con distintos learning rate\",fontsize=15,fontweight='black')\n",
    "\n",
    "plt.subplot (3,3,1)\n",
    "plt.plot(hist4.history['loss'], label=\"loss\")\n",
    "plt.plot(hist4.history['val_loss'], label=\"val_loss\")\n",
    "plt.ylabel('loss')\n",
    "plt.xlabel('epoch')\n",
    "plt.title('Evaluacion con learning rate 0.001')\n",
    "plt.legend()\n",
    "\n",
    "plt.subplot (3,3,2)\n",
    "plt.plot(hist6.history['loss'], label=\"loss\")\n",
    "plt.plot(hist6.history['val_loss'], label=\"val_loss\")\n",
    "plt.ylabel('loss')\n",
    "plt.xlabel('epoch')\n",
    "plt.title('Evaluacion con learning rate 0.1')\n",
    "plt.legend()\n",
    "\n",
    "plt.subplot (3,3,3)\n",
    "plt.plot(hist7.history['loss'], label=\"loss\")\n",
    "plt.plot(hist7.history['val_loss'], label=\"val_loss\")\n",
    "plt.ylabel('loss')\n",
    "plt.xlabel('epoch')\n",
    "plt.title('Evaluacion learning rate 0.0001')\n",
    "plt.legend()"
   ]
  },
  {
   "cell_type": "markdown",
   "id": "5948988d-7029-4974-a651-e4a4549d770c",
   "metadata": {},
   "source": [
    "**El de mejor funcionamiento fue el modelo con learning rate de 0.001**"
   ]
  },
  {
   "cell_type": "code",
   "execution_count": 26,
   "id": "c29c834b-2c2e-4d03-b870-a2078f76c44c",
   "metadata": {},
   "outputs": [
    {
     "name": "stdout",
     "output_type": "stream",
     "text": [
      "Epoch 1/30\n",
      "511/511 [==============================] - 4s 9ms/step - loss: 89.6143 - val_loss: 56.8583\n",
      "Epoch 2/30\n",
      "511/511 [==============================] - 5s 9ms/step - loss: 56.5924 - val_loss: 56.2754\n",
      "Epoch 3/30\n",
      "511/511 [==============================] - 4s 8ms/step - loss: 55.8217 - val_loss: 58.1639\n",
      "Epoch 4/30\n",
      "511/511 [==============================] - 5s 9ms/step - loss: 53.3850 - val_loss: 52.1520\n",
      "Epoch 5/30\n",
      "511/511 [==============================] - 4s 9ms/step - loss: 49.9608 - val_loss: 53.0468\n",
      "Epoch 6/30\n",
      "511/511 [==============================] - 4s 8ms/step - loss: 47.4998 - val_loss: 67.8602\n",
      "Epoch 7/30\n",
      "511/511 [==============================] - 4s 9ms/step - loss: 45.9295 - val_loss: 46.3752\n",
      "Epoch 8/30\n",
      "511/511 [==============================] - 4s 9ms/step - loss: 45.4354 - val_loss: 47.0669\n",
      "Epoch 9/30\n",
      "511/511 [==============================] - 5s 9ms/step - loss: 43.9699 - val_loss: 53.0786\n",
      "Epoch 10/30\n",
      "511/511 [==============================] - 4s 8ms/step - loss: 43.7260 - val_loss: 51.9761\n",
      "Epoch 11/30\n",
      "511/511 [==============================] - 5s 9ms/step - loss: 43.2264 - val_loss: 46.0458\n",
      "Epoch 12/30\n",
      "511/511 [==============================] - 4s 9ms/step - loss: 42.7324 - val_loss: 46.2987\n",
      "Epoch 13/30\n",
      "511/511 [==============================] - 4s 9ms/step - loss: 42.3210 - val_loss: 45.4730\n",
      "Epoch 14/30\n",
      "511/511 [==============================] - 4s 8ms/step - loss: 41.9111 - val_loss: 50.2788\n",
      "Epoch 15/30\n",
      "511/511 [==============================] - 5s 9ms/step - loss: 42.0453 - val_loss: 46.8790\n",
      "Epoch 16/30\n",
      "511/511 [==============================] - 5s 9ms/step - loss: 41.5818 - val_loss: 44.2040\n",
      "Epoch 17/30\n",
      "511/511 [==============================] - 4s 8ms/step - loss: 41.5308 - val_loss: 43.5240\n",
      "Epoch 18/30\n",
      "511/511 [==============================] - 4s 9ms/step - loss: 41.1307 - val_loss: 43.1941\n",
      "Epoch 19/30\n",
      "511/511 [==============================] - 4s 8ms/step - loss: 40.9358 - val_loss: 43.7247\n",
      "Epoch 20/30\n",
      "511/511 [==============================] - 5s 9ms/step - loss: 40.6033 - val_loss: 49.9746\n",
      "Epoch 21/30\n",
      "511/511 [==============================] - 4s 8ms/step - loss: 40.6274 - val_loss: 46.2044\n",
      "Epoch 22/30\n",
      "511/511 [==============================] - 4s 9ms/step - loss: 40.8125 - val_loss: 42.9235\n",
      "Epoch 23/30\n",
      "511/511 [==============================] - 4s 9ms/step - loss: 40.1841 - val_loss: 53.9144\n",
      "Epoch 24/30\n",
      "511/511 [==============================] - 4s 9ms/step - loss: 40.1922 - val_loss: 43.6275\n",
      "Epoch 25/30\n",
      "511/511 [==============================] - 4s 9ms/step - loss: 40.3142 - val_loss: 42.7354\n",
      "Epoch 26/30\n",
      "511/511 [==============================] - 4s 9ms/step - loss: 40.1240 - val_loss: 42.8004\n",
      "Epoch 27/30\n",
      "511/511 [==============================] - 5s 9ms/step - loss: 39.7342 - val_loss: 43.8325\n",
      "Epoch 28/30\n",
      "511/511 [==============================] - 4s 9ms/step - loss: 39.6579 - val_loss: 44.0780\n",
      "Epoch 29/30\n",
      "511/511 [==============================] - 6s 11ms/step - loss: 39.8390 - val_loss: 45.1385\n",
      "Epoch 30/30\n",
      "511/511 [==============================] - 6s 12ms/step - loss: 39.8080 - val_loss: 45.3274\n"
     ]
    }
   ],
   "source": [
    "# Modelo\n",
    "model = tf.keras.models.Sequential ([\n",
    "    tf.keras.layers.Flatten(input_dim=9),\n",
    "    tf.keras.layers.Dense(1024, activation='relu'),\n",
    "    tf.keras.layers.Dense(512, activation='relu'),\n",
    "    tf.keras.layers.Dense(256, activation='relu'),\n",
    "    tf.keras.layers.Dense(128, activation='relu'),\n",
    "    tf.keras.layers.Dense(64, activation='relu'),\n",
    "    tf.keras.layers.Dense(32, activation='relu'),\n",
    "    tf.keras.layers.Dense(16, activation='relu'),\n",
    "    tf.keras.layers.Dense(1)\n",
    "    ])\n",
    "# Optimizadores\n",
    "opt = tf.keras.optimizers.SGD (learning_rate=0.001)\n",
    "# Compilamos el modelo\n",
    "model.compile (loss=actual_loss, optimizer=opt)\n",
    "# Entrenamiento\n",
    "hist = model.fit (x, y, validation_split = 0.2, epochs=30)"
   ]
  },
  {
   "cell_type": "markdown",
   "id": "122a9867-c26b-4a60-9990-5676eb76b7b6",
   "metadata": {
    "tags": []
   },
   "source": [
    "### <font color=\"#004D7F\" size=4>Ejercicio 12 [Opcional]</font> \n",
    "\n",
    "Muestra en una gráfica como ha evolucionado el entrenamiento."
   ]
  },
  {
   "cell_type": "code",
   "execution_count": 27,
   "id": "4b6ac9ba-15d1-40b1-b052-7b2d1324c0f9",
   "metadata": {},
   "outputs": [],
   "source": [
    "def show_results(hist):\n",
    "    fig=plt.figure(figsize=(60, 40))\n",
    "\n",
    "    # error\n",
    "    fig.add_subplot(10, 10, 1)\n",
    "    plt.title('Loss')\n",
    "    plt.plot(hist.history['loss'], label='train')\n",
    "    plt.plot(hist.history['val_loss'], label='val')\n",
    "    plt.legend()\n",
    "    \n",
    "    plt.legend()\n",
    "    plt.show()"
   ]
  },
  {
   "cell_type": "code",
   "execution_count": 28,
   "id": "f6035e4b",
   "metadata": {},
   "outputs": [
    {
     "data": {
      "image/png": "[encoded data removed]",
      "text/plain": [
       "<Figure size 4320x2880 with 1 Axes>"
      ]
     },
     "metadata": {
      "needs_background": "light"
     },
     "output_type": "display_data"
    }
   ],
   "source": [
    "show_results(hist)"
   ]
  },
  {
   "cell_type": "code",
   "execution_count": null,
   "id": "5d4ca5ba-fbf2-44a3-9167-5b0c0cde45b5",
   "metadata": {},
   "outputs": [],
   "source": []
  }
 ],
 "metadata": {
  "kernelspec": {
   "display_name": "Python 3",
   "language": "python",
   "name": "python3"
  },
  "language_info": {
   "codemirror_mode": {
    "name": "ipython",
    "version": 3
   },
   "file_extension": ".py",
   "mimetype": "text/x-python",
   "name": "python",
   "nbconvert_exporter": "python",
   "pygments_lexer": "ipython3",
   "version": "3.8.8"
  }
 },
 "nbformat": 4,
 "nbformat_minor": 5
}
