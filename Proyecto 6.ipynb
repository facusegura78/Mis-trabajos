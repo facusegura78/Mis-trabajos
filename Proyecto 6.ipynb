{
 "cells": [
  {
   "cell_type": "markdown",
   "metadata": {
    "tags": []
   },
   "source": [
    "# Proyecto : #\n",
    "\n",
    "### **Refinamiento de los mejores modelos de clasificación encontrados para predecir especies de pingüino** ###"
   ]
  },
  {
   "cell_type": "markdown",
   "metadata": {
    "tags": []
   },
   "source": [
    "### Fase 1: Carga de los datos y preprocesamiento ###"
   ]
  },
  {
   "cell_type": "code",
   "execution_count": 1,
   "metadata": {},
   "outputs": [
    {
     "name": "stdout",
     "output_type": "stream",
     "text": [
      "Requirement already satisfied: kaggle in /opt/anaconda3/lib/python3.9/site-packages (1.5.12)\n",
      "Requirement already satisfied: requests in /opt/anaconda3/lib/python3.9/site-packages (from kaggle) (2.26.0)\n",
      "Requirement already satisfied: certifi in /opt/anaconda3/lib/python3.9/site-packages (from kaggle) (2021.10.8)\n",
      "Requirement already satisfied: python-slugify in /opt/anaconda3/lib/python3.9/site-packages (from kaggle) (5.0.2)\n",
      "Requirement already satisfied: urllib3 in /opt/anaconda3/lib/python3.9/site-packages (from kaggle) (1.26.7)\n",
      "Requirement already satisfied: python-dateutil in /opt/anaconda3/lib/python3.9/site-packages (from kaggle) (2.8.2)\n",
      "Requirement already satisfied: tqdm in /opt/anaconda3/lib/python3.9/site-packages (from kaggle) (4.62.3)\n",
      "Requirement already satisfied: six>=1.10 in /opt/anaconda3/lib/python3.9/site-packages (from kaggle) (1.16.0)\n",
      "Requirement already satisfied: text-unidecode>=1.3 in /opt/anaconda3/lib/python3.9/site-packages (from python-slugify->kaggle) (1.3)\n",
      "Requirement already satisfied: idna<4,>=2.5 in /opt/anaconda3/lib/python3.9/site-packages (from requests->kaggle) (3.2)\n",
      "Requirement already satisfied: charset-normalizer~=2.0.0 in /opt/anaconda3/lib/python3.9/site-packages (from requests->kaggle) (2.0.4)\n",
      "mkdir: /Users/Facundo/.kaggle: File exists\n",
      "cp: /content/drive/MyDrive/kaggle.json: No such file or directory\n",
      "chmod: /Users/Facundo/.kaggle/kaggle.json: No such file or directory\n",
      "Traceback (most recent call last):\n",
      "  File \"/opt/anaconda3/bin/kaggle\", line 5, in <module>\n",
      "    from kaggle.cli import main\n",
      "  File \"/opt/anaconda3/lib/python3.9/site-packages/kaggle/__init__.py\", line 23, in <module>\n",
      "    api.authenticate()\n",
      "  File \"/opt/anaconda3/lib/python3.9/site-packages/kaggle/api/kaggle_api_extended.py\", line 164, in authenticate\n",
      "    raise IOError('Could not find {}. Make sure it\\'s located in'\n",
      "OSError: Could not find kaggle.json. Make sure it's located in /Users/Facundo/.kaggle. Or use the environment method.\n",
      "unzip:  cannot find or open palmer-archipelago-antarctica-penguin-data.zip, palmer-archipelago-antarctica-penguin-data.zip.zip or palmer-archipelago-antarctica-penguin-data.zip.ZIP.\n"
     ]
    }
   ],
   "source": [
    "! pip install kaggle\n",
    "! mkdir ~/.kaggle\n",
    "! cp /content/drive/MyDrive/kaggle.json ~/.kaggle/kaggle.json\n",
    "! chmod 600 ~/.kaggle/kaggle.json\n",
    "\n",
    "! kaggle datasets download parulpandey/palmer-archipelago-antarctica-penguin-data\n",
    "! unzip palmer-archipelago-antarctica-penguin-data.zip"
   ]
  },
  {
   "cell_type": "code",
   "execution_count": 2,
   "metadata": {},
   "outputs": [],
   "source": [
    "import numpy as np\n",
    "import pandas as pd\n",
    "import warnings\n",
    "warnings.filterwarnings('ignore')\n",
    "# importamos la librerías necesarias para la carga e información de nuestro dataset"
   ]
  },
  {
   "cell_type": "code",
   "execution_count": 3,
   "metadata": {},
   "outputs": [
    {
     "data": {
      "text/html": [
       "<div>\n",
       "<style scoped>\n",
       "    .dataframe tbody tr th:only-of-type {\n",
       "        vertical-align: middle;\n",
       "    }\n",
       "\n",
       "    .dataframe tbody tr th {\n",
       "        vertical-align: top;\n",
       "    }\n",
       "\n",
       "    .dataframe thead th {\n",
       "        text-align: right;\n",
       "    }\n",
       "</style>\n",
       "<table border=\"1\" class=\"dataframe\">\n",
       "  <thead>\n",
       "    <tr style=\"text-align: right;\">\n",
       "      <th></th>\n",
       "      <th>species</th>\n",
       "      <th>island</th>\n",
       "      <th>culmen_length_mm</th>\n",
       "      <th>culmen_depth_mm</th>\n",
       "      <th>flipper_length_mm</th>\n",
       "      <th>body_mass_g</th>\n",
       "      <th>sex</th>\n",
       "    </tr>\n",
       "  </thead>\n",
       "  <tbody>\n",
       "    <tr>\n",
       "      <th>0</th>\n",
       "      <td>Adelie</td>\n",
       "      <td>Torgersen</td>\n",
       "      <td>39.1</td>\n",
       "      <td>18.7</td>\n",
       "      <td>181.0</td>\n",
       "      <td>3750.0</td>\n",
       "      <td>MALE</td>\n",
       "    </tr>\n",
       "    <tr>\n",
       "      <th>1</th>\n",
       "      <td>Adelie</td>\n",
       "      <td>Torgersen</td>\n",
       "      <td>39.5</td>\n",
       "      <td>17.4</td>\n",
       "      <td>186.0</td>\n",
       "      <td>3800.0</td>\n",
       "      <td>FEMALE</td>\n",
       "    </tr>\n",
       "    <tr>\n",
       "      <th>2</th>\n",
       "      <td>Adelie</td>\n",
       "      <td>Torgersen</td>\n",
       "      <td>40.3</td>\n",
       "      <td>18.0</td>\n",
       "      <td>195.0</td>\n",
       "      <td>3250.0</td>\n",
       "      <td>FEMALE</td>\n",
       "    </tr>\n",
       "    <tr>\n",
       "      <th>4</th>\n",
       "      <td>Adelie</td>\n",
       "      <td>Torgersen</td>\n",
       "      <td>36.7</td>\n",
       "      <td>19.3</td>\n",
       "      <td>193.0</td>\n",
       "      <td>3450.0</td>\n",
       "      <td>FEMALE</td>\n",
       "    </tr>\n",
       "    <tr>\n",
       "      <th>5</th>\n",
       "      <td>Adelie</td>\n",
       "      <td>Torgersen</td>\n",
       "      <td>39.3</td>\n",
       "      <td>20.6</td>\n",
       "      <td>190.0</td>\n",
       "      <td>3650.0</td>\n",
       "      <td>MALE</td>\n",
       "    </tr>\n",
       "  </tbody>\n",
       "</table>\n",
       "</div>"
      ],
      "text/plain": [
       "  species     island  culmen_length_mm  culmen_depth_mm  flipper_length_mm  \\\n",
       "0  Adelie  Torgersen              39.1             18.7              181.0   \n",
       "1  Adelie  Torgersen              39.5             17.4              186.0   \n",
       "2  Adelie  Torgersen              40.3             18.0              195.0   \n",
       "4  Adelie  Torgersen              36.7             19.3              193.0   \n",
       "5  Adelie  Torgersen              39.3             20.6              190.0   \n",
       "\n",
       "   body_mass_g     sex  \n",
       "0       3750.0    MALE  \n",
       "1       3800.0  FEMALE  \n",
       "2       3250.0  FEMALE  \n",
       "4       3450.0  FEMALE  \n",
       "5       3650.0    MALE  "
      ]
     },
     "execution_count": 3,
     "metadata": {},
     "output_type": "execute_result"
    }
   ],
   "source": [
    "import pandas as pd\n",
    "penguins = pd.read_csv('penguins_size.csv').dropna()\n",
    "penguins.head()"
   ]
  },
  {
   "cell_type": "code",
   "execution_count": 4,
   "metadata": {},
   "outputs": [],
   "source": [
    "penguins.sex.replace({'.':'FEMALE'},inplace=True)\n",
    "# Reemplazamos el valor \".\" por 'FEMALE' para dejar esta variable todavía mas equilibrada"
   ]
  },
  {
   "cell_type": "code",
   "execution_count": 5,
   "metadata": {},
   "outputs": [
    {
     "data": {
      "text/plain": [
       "MALE      168\n",
       "FEMALE    166\n",
       "Name: sex, dtype: int64"
      ]
     },
     "execution_count": 5,
     "metadata": {},
     "output_type": "execute_result"
    }
   ],
   "source": [
    "penguins.sex.value_counts()\n",
    "# Realizamos lo mismo con la variable sex"
   ]
  },
  {
   "cell_type": "code",
   "execution_count": 6,
   "metadata": {},
   "outputs": [],
   "source": [
    "from sklearn.model_selection import train_test_split\n",
    "\n",
    "X = penguins.drop(\"species\", axis=1)\n",
    "\n",
    "y = penguins.species.astype(\"category\").cat.codes\n",
    "# Usar esta instrucción cuando se requieran etiquetas de clase codificadas numéricamente, p.ej. si vamos \n",
    "# a visualizar la curva ROC y calcular AUC o si vamos a hacer búsqueda de hiperparámetros para optimizar\n",
    "# modelos.\n",
    "\n",
    "\n",
    "X_train, X_test, y_train, y_test = train_test_split(\n",
    "                        X, y, test_size=.2, random_state=42)"
   ]
  },
  {
   "cell_type": "code",
   "execution_count": 7,
   "metadata": {
    "colab": {
     "base_uri": "https://localhost:8080/",
     "height": 206
    },
    "id": "3725IBpg3Qu8",
    "outputId": "c7872d15-a2bd-4cae-eb01-3f0b4206fa4c"
   },
   "outputs": [
    {
     "data": {
      "text/html": [
       "<div>\n",
       "<style scoped>\n",
       "    .dataframe tbody tr th:only-of-type {\n",
       "        vertical-align: middle;\n",
       "    }\n",
       "\n",
       "    .dataframe tbody tr th {\n",
       "        vertical-align: top;\n",
       "    }\n",
       "\n",
       "    .dataframe thead th {\n",
       "        text-align: right;\n",
       "    }\n",
       "</style>\n",
       "<table border=\"1\" class=\"dataframe\">\n",
       "  <thead>\n",
       "    <tr style=\"text-align: right;\">\n",
       "      <th></th>\n",
       "      <th>culmen_length_mm</th>\n",
       "      <th>culmen_depth_mm</th>\n",
       "      <th>flipper_length_mm</th>\n",
       "      <th>body_mass_g</th>\n",
       "    </tr>\n",
       "  </thead>\n",
       "  <tbody>\n",
       "    <tr>\n",
       "      <th>230</th>\n",
       "      <td>40.9</td>\n",
       "      <td>13.7</td>\n",
       "      <td>214.0</td>\n",
       "      <td>4650.0</td>\n",
       "    </tr>\n",
       "    <tr>\n",
       "      <th>84</th>\n",
       "      <td>37.3</td>\n",
       "      <td>17.8</td>\n",
       "      <td>191.0</td>\n",
       "      <td>3350.0</td>\n",
       "    </tr>\n",
       "    <tr>\n",
       "      <th>303</th>\n",
       "      <td>50.0</td>\n",
       "      <td>15.9</td>\n",
       "      <td>224.0</td>\n",
       "      <td>5350.0</td>\n",
       "    </tr>\n",
       "    <tr>\n",
       "      <th>22</th>\n",
       "      <td>35.9</td>\n",
       "      <td>19.2</td>\n",
       "      <td>189.0</td>\n",
       "      <td>3800.0</td>\n",
       "    </tr>\n",
       "    <tr>\n",
       "      <th>29</th>\n",
       "      <td>40.5</td>\n",
       "      <td>18.9</td>\n",
       "      <td>180.0</td>\n",
       "      <td>3950.0</td>\n",
       "    </tr>\n",
       "  </tbody>\n",
       "</table>\n",
       "</div>"
      ],
      "text/plain": [
       "     culmen_length_mm  culmen_depth_mm  flipper_length_mm  body_mass_g\n",
       "230              40.9             13.7              214.0       4650.0\n",
       "84               37.3             17.8              191.0       3350.0\n",
       "303              50.0             15.9              224.0       5350.0\n",
       "22               35.9             19.2              189.0       3800.0\n",
       "29               40.5             18.9              180.0       3950.0"
      ]
     },
     "execution_count": 7,
     "metadata": {},
     "output_type": "execute_result"
    }
   ],
   "source": [
    "X_train_num = X_train.drop([\"island\", \"sex\"], axis=1) \n",
    "# Obtener una versión solo con atributos numéricos para rellenar valores perdidos\n",
    "\n",
    "from sklearn.impute import SimpleImputer\n",
    "\n",
    "num_imputer = SimpleImputer(strategy=\"median\") \n",
    "# Rellenar valores perdidos de atributos numéricos con la mediana de éste\n",
    "\n",
    "X_train_num_array = num_imputer.fit_transform(X_train_num)\n",
    "X_train_num = pd.DataFrame(X_train_num_array, columns=X_train_num.columns, index=X_train_num.index) # Al aplicar una imputación se pierde la estructura de DataFrame, pero se puede volver a crear\n",
    "X_train_num.head()"
   ]
  },
  {
   "cell_type": "markdown",
   "metadata": {
    "id": "09H2b-Ot8HcY"
   },
   "source": [
    "*Utilizamos **OneHotEncoder** para transformar el valor categórico de *'island'**"
   ]
  },
  {
   "cell_type": "code",
   "execution_count": 8,
   "metadata": {
    "colab": {
     "base_uri": "https://localhost:8080/",
     "height": 261
    },
    "id": "qzX0ENdA8WqG",
    "outputId": "c2b6ff7c-9370-42b8-a31b-5aa9b8d8576a"
   },
   "outputs": [
    {
     "data": {
      "text/html": [
       "<div>\n",
       "<style scoped>\n",
       "    .dataframe tbody tr th:only-of-type {\n",
       "        vertical-align: middle;\n",
       "    }\n",
       "\n",
       "    .dataframe tbody tr th {\n",
       "        vertical-align: top;\n",
       "    }\n",
       "\n",
       "    .dataframe thead th {\n",
       "        text-align: right;\n",
       "    }\n",
       "</style>\n",
       "<table border=\"1\" class=\"dataframe\">\n",
       "  <thead>\n",
       "    <tr style=\"text-align: right;\">\n",
       "      <th></th>\n",
       "      <th>island_Biscoe</th>\n",
       "      <th>island_Dream</th>\n",
       "      <th>island_Torgersen</th>\n",
       "    </tr>\n",
       "  </thead>\n",
       "  <tbody>\n",
       "    <tr>\n",
       "      <th>0</th>\n",
       "      <td>1.0</td>\n",
       "      <td>0.0</td>\n",
       "      <td>0.0</td>\n",
       "    </tr>\n",
       "    <tr>\n",
       "      <th>1</th>\n",
       "      <td>0.0</td>\n",
       "      <td>1.0</td>\n",
       "      <td>0.0</td>\n",
       "    </tr>\n",
       "    <tr>\n",
       "      <th>2</th>\n",
       "      <td>1.0</td>\n",
       "      <td>0.0</td>\n",
       "      <td>0.0</td>\n",
       "    </tr>\n",
       "    <tr>\n",
       "      <th>3</th>\n",
       "      <td>1.0</td>\n",
       "      <td>0.0</td>\n",
       "      <td>0.0</td>\n",
       "    </tr>\n",
       "    <tr>\n",
       "      <th>4</th>\n",
       "      <td>1.0</td>\n",
       "      <td>0.0</td>\n",
       "      <td>0.0</td>\n",
       "    </tr>\n",
       "  </tbody>\n",
       "</table>\n",
       "</div>"
      ],
      "text/plain": [
       "   island_Biscoe  island_Dream  island_Torgersen\n",
       "0            1.0           0.0               0.0\n",
       "1            0.0           1.0               0.0\n",
       "2            1.0           0.0               0.0\n",
       "3            1.0           0.0               0.0\n",
       "4            1.0           0.0               0.0"
      ]
     },
     "execution_count": 8,
     "metadata": {},
     "output_type": "execute_result"
    }
   ],
   "source": [
    "from sklearn.preprocessing import OneHotEncoder\n",
    "\n",
    "# Inicializamos OneHotEncoder\n",
    "encoder = OneHotEncoder()\n",
    "\n",
    "encoder.fit(X_train[[\"island\"]])\n",
    "X_train_encoded = encoder.transform(X_train[[\"island\"]]).toarray()\n",
    "\n",
    "X_train_encoded_df = pd.DataFrame(X_train_encoded, columns=encoder.get_feature_names(X_train[[\"island\"]].columns))\n",
    "\n",
    "X_train_encoded_df.head()"
   ]
  },
  {
   "cell_type": "markdown",
   "metadata": {
    "id": "FtdFmjgg-_Qf"
   },
   "source": [
    "Aquí se comparan los tres nuevos atributos con el atributo categórico original del que provienen."
   ]
  },
  {
   "cell_type": "markdown",
   "metadata": {
    "id": "mwf7ja5K_sNO"
   },
   "source": [
    "Una vez hemos realizado el tratamiento de **atributos numéricos** y **atributo categórico** de forma separada, volver a unificarlos en una nueva versión de los datos de entrenamiento.\n",
    "\n",
    "**CUIDADO**: Nótese que una de las transformaciones previas, la de obtener nuevos atributos mediante *OneHotEncoder* ha originado nuevos índices asociados a las instancias. Aunque estos índices no cuentan como datos relevantes al posterior algoritmo de ML, re-unificar múltiples subconjuntos de atributos con diferentes índices es una fuente de problemas.\n",
    "\n",
    "La solución más seguro es resetear los índices de ambas partes a fusionar, como se muestra a continuación:"
   ]
  },
  {
   "cell_type": "code",
   "execution_count": 9,
   "metadata": {
    "colab": {
     "base_uri": "https://localhost:8080/",
     "height": 423
    },
    "id": "JoZ2jidg_6Ax",
    "outputId": "b026efb7-5b04-433e-c593-20276c8d201c"
   },
   "outputs": [
    {
     "data": {
      "text/html": [
       "<div>\n",
       "<style scoped>\n",
       "    .dataframe tbody tr th:only-of-type {\n",
       "        vertical-align: middle;\n",
       "    }\n",
       "\n",
       "    .dataframe tbody tr th {\n",
       "        vertical-align: top;\n",
       "    }\n",
       "\n",
       "    .dataframe thead th {\n",
       "        text-align: right;\n",
       "    }\n",
       "</style>\n",
       "<table border=\"1\" class=\"dataframe\">\n",
       "  <thead>\n",
       "    <tr style=\"text-align: right;\">\n",
       "      <th></th>\n",
       "      <th>culmen_length_mm</th>\n",
       "      <th>culmen_depth_mm</th>\n",
       "      <th>flipper_length_mm</th>\n",
       "      <th>body_mass_g</th>\n",
       "      <th>island_Biscoe</th>\n",
       "      <th>island_Dream</th>\n",
       "      <th>island_Torgersen</th>\n",
       "    </tr>\n",
       "  </thead>\n",
       "  <tbody>\n",
       "    <tr>\n",
       "      <th>0</th>\n",
       "      <td>40.9</td>\n",
       "      <td>13.7</td>\n",
       "      <td>214.0</td>\n",
       "      <td>4650.0</td>\n",
       "      <td>1.0</td>\n",
       "      <td>0.0</td>\n",
       "      <td>0.0</td>\n",
       "    </tr>\n",
       "    <tr>\n",
       "      <th>1</th>\n",
       "      <td>37.3</td>\n",
       "      <td>17.8</td>\n",
       "      <td>191.0</td>\n",
       "      <td>3350.0</td>\n",
       "      <td>0.0</td>\n",
       "      <td>1.0</td>\n",
       "      <td>0.0</td>\n",
       "    </tr>\n",
       "    <tr>\n",
       "      <th>2</th>\n",
       "      <td>50.0</td>\n",
       "      <td>15.9</td>\n",
       "      <td>224.0</td>\n",
       "      <td>5350.0</td>\n",
       "      <td>1.0</td>\n",
       "      <td>0.0</td>\n",
       "      <td>0.0</td>\n",
       "    </tr>\n",
       "    <tr>\n",
       "      <th>3</th>\n",
       "      <td>35.9</td>\n",
       "      <td>19.2</td>\n",
       "      <td>189.0</td>\n",
       "      <td>3800.0</td>\n",
       "      <td>1.0</td>\n",
       "      <td>0.0</td>\n",
       "      <td>0.0</td>\n",
       "    </tr>\n",
       "    <tr>\n",
       "      <th>4</th>\n",
       "      <td>40.5</td>\n",
       "      <td>18.9</td>\n",
       "      <td>180.0</td>\n",
       "      <td>3950.0</td>\n",
       "      <td>1.0</td>\n",
       "      <td>0.0</td>\n",
       "      <td>0.0</td>\n",
       "    </tr>\n",
       "    <tr>\n",
       "      <th>...</th>\n",
       "      <td>...</td>\n",
       "      <td>...</td>\n",
       "      <td>...</td>\n",
       "      <td>...</td>\n",
       "      <td>...</td>\n",
       "      <td>...</td>\n",
       "      <td>...</td>\n",
       "    </tr>\n",
       "    <tr>\n",
       "      <th>262</th>\n",
       "      <td>50.9</td>\n",
       "      <td>19.1</td>\n",
       "      <td>196.0</td>\n",
       "      <td>3550.0</td>\n",
       "      <td>0.0</td>\n",
       "      <td>1.0</td>\n",
       "      <td>0.0</td>\n",
       "    </tr>\n",
       "    <tr>\n",
       "      <th>263</th>\n",
       "      <td>37.2</td>\n",
       "      <td>19.4</td>\n",
       "      <td>184.0</td>\n",
       "      <td>3900.0</td>\n",
       "      <td>0.0</td>\n",
       "      <td>0.0</td>\n",
       "      <td>1.0</td>\n",
       "    </tr>\n",
       "    <tr>\n",
       "      <th>264</th>\n",
       "      <td>39.7</td>\n",
       "      <td>17.7</td>\n",
       "      <td>193.0</td>\n",
       "      <td>3200.0</td>\n",
       "      <td>1.0</td>\n",
       "      <td>0.0</td>\n",
       "      <td>0.0</td>\n",
       "    </tr>\n",
       "    <tr>\n",
       "      <th>265</th>\n",
       "      <td>45.5</td>\n",
       "      <td>15.0</td>\n",
       "      <td>220.0</td>\n",
       "      <td>5000.0</td>\n",
       "      <td>1.0</td>\n",
       "      <td>0.0</td>\n",
       "      <td>0.0</td>\n",
       "    </tr>\n",
       "    <tr>\n",
       "      <th>266</th>\n",
       "      <td>38.1</td>\n",
       "      <td>17.0</td>\n",
       "      <td>181.0</td>\n",
       "      <td>3175.0</td>\n",
       "      <td>1.0</td>\n",
       "      <td>0.0</td>\n",
       "      <td>0.0</td>\n",
       "    </tr>\n",
       "  </tbody>\n",
       "</table>\n",
       "<p>267 rows × 7 columns</p>\n",
       "</div>"
      ],
      "text/plain": [
       "     culmen_length_mm  culmen_depth_mm  flipper_length_mm  body_mass_g  \\\n",
       "0                40.9             13.7              214.0       4650.0   \n",
       "1                37.3             17.8              191.0       3350.0   \n",
       "2                50.0             15.9              224.0       5350.0   \n",
       "3                35.9             19.2              189.0       3800.0   \n",
       "4                40.5             18.9              180.0       3950.0   \n",
       "..                ...              ...                ...          ...   \n",
       "262              50.9             19.1              196.0       3550.0   \n",
       "263              37.2             19.4              184.0       3900.0   \n",
       "264              39.7             17.7              193.0       3200.0   \n",
       "265              45.5             15.0              220.0       5000.0   \n",
       "266              38.1             17.0              181.0       3175.0   \n",
       "\n",
       "     island_Biscoe  island_Dream  island_Torgersen  \n",
       "0              1.0           0.0               0.0  \n",
       "1              0.0           1.0               0.0  \n",
       "2              1.0           0.0               0.0  \n",
       "3              1.0           0.0               0.0  \n",
       "4              1.0           0.0               0.0  \n",
       "..             ...           ...               ...  \n",
       "262            0.0           1.0               0.0  \n",
       "263            0.0           0.0               1.0  \n",
       "264            1.0           0.0               0.0  \n",
       "265            1.0           0.0               0.0  \n",
       "266            1.0           0.0               0.0  \n",
       "\n",
       "[267 rows x 7 columns]"
      ]
     },
     "execution_count": 9,
     "metadata": {},
     "output_type": "execute_result"
    }
   ],
   "source": [
    "X_train_num.reset_index(drop=True, inplace=True) # Resetear índices de las instancias para asegurar coherencia al fusionar los datos\n",
    "\n",
    "X_train_encoded_df.reset_index(drop=True, inplace=True) # Resetear índices de las instancias para asegurar coherencia al fusionar los datos\n",
    "\n",
    "X_train_prepared = pd.concat([X_train_num, X_train_encoded_df], axis=1) # Se fusionan todos los atributos necesarios\n",
    "\n",
    "X_train_prepared"
   ]
  },
  {
   "cell_type": "markdown",
   "metadata": {
    "id": "cMyexmsPCYD9"
   },
   "source": [
    "Para realizar predicciones sobre los **datos de test** necesitaremos aplicar la misma secuencia de transformaciones que originalmente aplicamos sobre los datos de entrenamiento.\n",
    "\n",
    "En los datos de **test** usamos el mismo transformador *OneHotEncoder* definido previamente para los datos de entrenamiento, invocando directamente el método *transform()*: no se debe llamar el método *fit()* de nuevo, ya que el modo de ***transformar los datos*** debe ser ***según lo aprendido de los datos de entrenamiento***."
   ]
  },
  {
   "cell_type": "code",
   "execution_count": 10,
   "metadata": {
    "colab": {
     "base_uri": "https://localhost:8080/",
     "height": 478
    },
    "id": "B7IZRuqpDHh9",
    "outputId": "19c67055-cfd7-4f26-dcbc-c15b0e0f8ef5"
   },
   "outputs": [
    {
     "data": {
      "text/html": [
       "<div>\n",
       "<style scoped>\n",
       "    .dataframe tbody tr th:only-of-type {\n",
       "        vertical-align: middle;\n",
       "    }\n",
       "\n",
       "    .dataframe tbody tr th {\n",
       "        vertical-align: top;\n",
       "    }\n",
       "\n",
       "    .dataframe thead th {\n",
       "        text-align: right;\n",
       "    }\n",
       "</style>\n",
       "<table border=\"1\" class=\"dataframe\">\n",
       "  <thead>\n",
       "    <tr style=\"text-align: right;\">\n",
       "      <th></th>\n",
       "      <th>culmen_length_mm</th>\n",
       "      <th>culmen_depth_mm</th>\n",
       "      <th>flipper_length_mm</th>\n",
       "      <th>body_mass_g</th>\n",
       "      <th>island_Biscoe</th>\n",
       "      <th>island_Dream</th>\n",
       "      <th>island_Torgersen</th>\n",
       "    </tr>\n",
       "  </thead>\n",
       "  <tbody>\n",
       "    <tr>\n",
       "      <th>0</th>\n",
       "      <td>39.5</td>\n",
       "      <td>16.7</td>\n",
       "      <td>178.0</td>\n",
       "      <td>3250.0</td>\n",
       "      <td>0.0</td>\n",
       "      <td>1.0</td>\n",
       "      <td>0.0</td>\n",
       "    </tr>\n",
       "    <tr>\n",
       "      <th>1</th>\n",
       "      <td>46.9</td>\n",
       "      <td>14.6</td>\n",
       "      <td>222.0</td>\n",
       "      <td>4875.0</td>\n",
       "      <td>1.0</td>\n",
       "      <td>0.0</td>\n",
       "      <td>0.0</td>\n",
       "    </tr>\n",
       "    <tr>\n",
       "      <th>2</th>\n",
       "      <td>42.1</td>\n",
       "      <td>19.1</td>\n",
       "      <td>195.0</td>\n",
       "      <td>4000.0</td>\n",
       "      <td>0.0</td>\n",
       "      <td>0.0</td>\n",
       "      <td>1.0</td>\n",
       "    </tr>\n",
       "    <tr>\n",
       "      <th>3</th>\n",
       "      <td>49.8</td>\n",
       "      <td>17.3</td>\n",
       "      <td>198.0</td>\n",
       "      <td>3675.0</td>\n",
       "      <td>0.0</td>\n",
       "      <td>1.0</td>\n",
       "      <td>0.0</td>\n",
       "    </tr>\n",
       "    <tr>\n",
       "      <th>4</th>\n",
       "      <td>41.1</td>\n",
       "      <td>18.2</td>\n",
       "      <td>192.0</td>\n",
       "      <td>4050.0</td>\n",
       "      <td>1.0</td>\n",
       "      <td>0.0</td>\n",
       "      <td>0.0</td>\n",
       "    </tr>\n",
       "    <tr>\n",
       "      <th>...</th>\n",
       "      <td>...</td>\n",
       "      <td>...</td>\n",
       "      <td>...</td>\n",
       "      <td>...</td>\n",
       "      <td>...</td>\n",
       "      <td>...</td>\n",
       "      <td>...</td>\n",
       "    </tr>\n",
       "    <tr>\n",
       "      <th>62</th>\n",
       "      <td>43.5</td>\n",
       "      <td>14.2</td>\n",
       "      <td>220.0</td>\n",
       "      <td>4700.0</td>\n",
       "      <td>1.0</td>\n",
       "      <td>0.0</td>\n",
       "      <td>0.0</td>\n",
       "    </tr>\n",
       "    <tr>\n",
       "      <th>63</th>\n",
       "      <td>36.7</td>\n",
       "      <td>19.3</td>\n",
       "      <td>193.0</td>\n",
       "      <td>3450.0</td>\n",
       "      <td>0.0</td>\n",
       "      <td>0.0</td>\n",
       "      <td>1.0</td>\n",
       "    </tr>\n",
       "    <tr>\n",
       "      <th>64</th>\n",
       "      <td>35.1</td>\n",
       "      <td>19.4</td>\n",
       "      <td>193.0</td>\n",
       "      <td>4200.0</td>\n",
       "      <td>0.0</td>\n",
       "      <td>0.0</td>\n",
       "      <td>1.0</td>\n",
       "    </tr>\n",
       "    <tr>\n",
       "      <th>65</th>\n",
       "      <td>51.1</td>\n",
       "      <td>16.5</td>\n",
       "      <td>225.0</td>\n",
       "      <td>5250.0</td>\n",
       "      <td>1.0</td>\n",
       "      <td>0.0</td>\n",
       "      <td>0.0</td>\n",
       "    </tr>\n",
       "    <tr>\n",
       "      <th>66</th>\n",
       "      <td>35.5</td>\n",
       "      <td>16.2</td>\n",
       "      <td>195.0</td>\n",
       "      <td>3350.0</td>\n",
       "      <td>1.0</td>\n",
       "      <td>0.0</td>\n",
       "      <td>0.0</td>\n",
       "    </tr>\n",
       "  </tbody>\n",
       "</table>\n",
       "<p>67 rows × 7 columns</p>\n",
       "</div>"
      ],
      "text/plain": [
       "    culmen_length_mm  culmen_depth_mm  flipper_length_mm  body_mass_g  \\\n",
       "0               39.5             16.7              178.0       3250.0   \n",
       "1               46.9             14.6              222.0       4875.0   \n",
       "2               42.1             19.1              195.0       4000.0   \n",
       "3               49.8             17.3              198.0       3675.0   \n",
       "4               41.1             18.2              192.0       4050.0   \n",
       "..               ...              ...                ...          ...   \n",
       "62              43.5             14.2              220.0       4700.0   \n",
       "63              36.7             19.3              193.0       3450.0   \n",
       "64              35.1             19.4              193.0       4200.0   \n",
       "65              51.1             16.5              225.0       5250.0   \n",
       "66              35.5             16.2              195.0       3350.0   \n",
       "\n",
       "    island_Biscoe  island_Dream  island_Torgersen  \n",
       "0             0.0           1.0               0.0  \n",
       "1             1.0           0.0               0.0  \n",
       "2             0.0           0.0               1.0  \n",
       "3             0.0           1.0               0.0  \n",
       "4             1.0           0.0               0.0  \n",
       "..            ...           ...               ...  \n",
       "62            1.0           0.0               0.0  \n",
       "63            0.0           0.0               1.0  \n",
       "64            0.0           0.0               1.0  \n",
       "65            1.0           0.0               0.0  \n",
       "66            1.0           0.0               0.0  \n",
       "\n",
       "[67 rows x 7 columns]"
      ]
     },
     "execution_count": 10,
     "metadata": {},
     "output_type": "execute_result"
    }
   ],
   "source": [
    "X_test_encoded = encoder.transform(X_test[[\"island\"]]).toarray() # Aplicar transformador OneHotEncoder\n",
    "\n",
    "X_test_encoded_df = pd.DataFrame(X_test_encoded,\n",
    "                                 columns=encoder.get_feature_names(X_test[[\"island\"]].columns))\n",
    "\n",
    "X_test_num = X_test.drop([\"island\",\"sex\"], axis=1)\n",
    "\n",
    "X_test_num_array = num_imputer.transform(X_test_num) # Aplicar transformador para imputar valores numéricos perdidos\n",
    "X_test_num = pd.DataFrame(X_test_num_array, columns=X_test_num.columns, index=X_test_num.index) \n",
    "# Al aplicar una imputación se pierde la estructura de DataFrame, pero se puede volver a crear\n",
    "\n",
    "# Resetear indices en atributos numéricos y en los binarios (derivados del atributo categórico), antes de fusionarlos.\n",
    "X_test_num.reset_index(drop=True, inplace=True)\n",
    "X_test_encoded_df.reset_index(drop=True, inplace=True)\n",
    "\n",
    "X_test_prepared = pd.concat([X_test_num,X_test_encoded_df], axis=1) # Se fusionan todos los atributos necesarios\n",
    "X_test_prepared"
   ]
  },
  {
   "cell_type": "markdown",
   "metadata": {},
   "source": [
    "# Sprint 1 #\n",
    "\n",
    "1. Entrenar y evaluar sobre datos de test un clasificador basado en regresión softmax.\n",
    "\n",
    "2. Entrenar y evaluar sobre datos de test un clasificador de los estudiados en el anterior módulo, por ejemplo SVM, a elección del alumno.\n",
    "\n",
    "3. Analizar, discutir y comparar los resultados."
   ]
  },
  {
   "cell_type": "markdown",
   "metadata": {},
   "source": [
    "### Punto 1: Ajuste del algoritmo de Regresión SoftMax ###"
   ]
  },
  {
   "cell_type": "code",
   "execution_count": 11,
   "metadata": {},
   "outputs": [
    {
     "data": {
      "text/plain": [
       "LogisticRegression(max_iter=10000, multi_class='multinomial')"
      ]
     },
     "execution_count": 11,
     "metadata": {},
     "output_type": "execute_result"
    }
   ],
   "source": [
    "from sklearn.linear_model import LogisticRegression\n",
    "from sklearn.metrics import accuracy_score\n",
    "\n",
    "# Preparación del algoritmo SoftMax\n",
    "softmax_reg = LogisticRegression(multi_class=\"multinomial\", solver=\"lbfgs\", max_iter=10000)\n",
    "softmax_reg.fit(X_train_prepared, y_train)"
   ]
  },
  {
   "cell_type": "code",
   "execution_count": 12,
   "metadata": {},
   "outputs": [
    {
     "name": "stdout",
     "output_type": "stream",
     "text": [
      "0.9962546816479401\n"
     ]
    }
   ],
   "source": [
    "y_pred_tr = softmax_reg.predict(X_train_prepared)\n",
    "resultado_sm_tr = accuracy_score(y_train, y_pred_tr)\n",
    "print (resultado_sm_tr)\n",
    "# Evaluamos la precisión del modelo en entrenamiento"
   ]
  },
  {
   "cell_type": "code",
   "execution_count": 13,
   "metadata": {},
   "outputs": [
    {
     "name": "stdout",
     "output_type": "stream",
     "text": [
      "0.9850746268656716\n"
     ]
    }
   ],
   "source": [
    "y_pred = softmax_reg.predict(X_test_prepared)\n",
    "resultado_sm_te = accuracy_score(y_test, y_pred)\n",
    "print (resultado_sm_te)\n",
    "# Evaluamos la precisión del modelo en datos de test"
   ]
  },
  {
   "cell_type": "markdown",
   "metadata": {},
   "source": [
    "### Punto 2: Ajuste del algoritmo de Support Vector Machine. ###"
   ]
  },
  {
   "cell_type": "code",
   "execution_count": 14,
   "metadata": {
    "id": "GQFhDW12E-Xp"
   },
   "outputs": [],
   "source": [
    "from sklearn.pipeline import Pipeline\n",
    "from sklearn.preprocessing import StandardScaler\n",
    "from sklearn.svm import LinearSVC \n",
    "# Cargamos la librería, esta vez utilizamos un Pipeline y el modelo SVM previo escalado de los datos"
   ]
  },
  {
   "cell_type": "code",
   "execution_count": 15,
   "metadata": {
    "colab": {
     "base_uri": "https://localhost:8080/"
    },
    "id": "1Bv8AcciF4jE",
    "outputId": "a6403f70-1134-42a4-ddb0-3e309ca835a0"
   },
   "outputs": [
    {
     "data": {
      "text/plain": [
       "Pipeline(steps=[('scaler', StandardScaler()),\n",
       "                ('linear_svc', LinearSVC(C=1, loss='hinge', max_iter=10000))])"
      ]
     },
     "execution_count": 15,
     "metadata": {},
     "output_type": "execute_result"
    }
   ],
   "source": [
    "svm_classifier = Pipeline([\n",
    "                           (\"scaler\", StandardScaler()),\n",
    "                           (\"linear_svc\", LinearSVC(C=1, loss=\"hinge\", max_iter=10000)),\n",
    "])\n",
    "# Definir una secuencia de acciones (pipeline) sencilla, consistente en entrenar un modelo SVM \n",
    "# precedido de un escalado de los atributos.\n",
    "\n",
    "svm_classifier.fit(X_train_prepared, y_train)"
   ]
  },
  {
   "cell_type": "code",
   "execution_count": 16,
   "metadata": {},
   "outputs": [
    {
     "name": "stdout",
     "output_type": "stream",
     "text": [
      "0.9962546816479401\n"
     ]
    }
   ],
   "source": [
    "y_pred_tr_svm = svm_classifier.predict(X_train_prepared)\n",
    "resultado_svm_tr = accuracy_score(y_train, y_pred_tr_svm)\n",
    "print (resultado_svm_tr)\n",
    "# Evaluamos la precisión del modelo en entrenamiento"
   ]
  },
  {
   "cell_type": "code",
   "execution_count": 17,
   "metadata": {
    "colab": {
     "base_uri": "https://localhost:8080/"
    },
    "id": "AiJ0nkpgGmyp",
    "outputId": "172965d5-3eba-4897-b7f1-412de7d9afc2"
   },
   "outputs": [
    {
     "name": "stdout",
     "output_type": "stream",
     "text": [
      "1.0\n"
     ]
    }
   ],
   "source": [
    "y_pred_te_svm = svm_classifier.predict(X_test_prepared)\n",
    "resultado_svm_te = accuracy_score(y_test, y_pred_te_svm)\n",
    "print (resultado_svm_te)\n",
    "# Evaluamos la precisión del modelo en test"
   ]
  },
  {
   "cell_type": "markdown",
   "metadata": {
    "tags": []
   },
   "source": [
    "### Punto 3: Analizar los resultados. ###"
   ]
  },
  {
   "cell_type": "code",
   "execution_count": 18,
   "metadata": {},
   "outputs": [
    {
     "name": "stdout",
     "output_type": "stream",
     "text": [
      "0.9850746268656716\n",
      "1.0\n"
     ]
    }
   ],
   "source": [
    "print (resultado_sm_te)\n",
    "print (resultado_svm_te)"
   ]
  },
  {
   "cell_type": "markdown",
   "metadata": {},
   "source": [
    "*Podemos observar que ambos modelos clasifican correctamente nuestras instancias, con un muy buen resultado para el SVM y la Regresion Softmax. A continuación realizó un Grid Search del algoritmo SVM para ver si los hiperparametros son los mejores que podemos obtener para este resultado.*"
   ]
  },
  {
   "cell_type": "markdown",
   "metadata": {},
   "source": [
    "* Grid Search de SVM"
   ]
  },
  {
   "cell_type": "code",
   "execution_count": 19,
   "metadata": {},
   "outputs": [
    {
     "data": {
      "text/html": [
       "<div>\n",
       "<style scoped>\n",
       "    .dataframe tbody tr th:only-of-type {\n",
       "        vertical-align: middle;\n",
       "    }\n",
       "\n",
       "    .dataframe tbody tr th {\n",
       "        vertical-align: top;\n",
       "    }\n",
       "\n",
       "    .dataframe thead th {\n",
       "        text-align: right;\n",
       "    }\n",
       "</style>\n",
       "<table border=\"1\" class=\"dataframe\">\n",
       "  <thead>\n",
       "    <tr style=\"text-align: right;\">\n",
       "      <th></th>\n",
       "      <th>param_C</th>\n",
       "      <th>param_gamma</th>\n",
       "      <th>param_kernel</th>\n",
       "      <th>param_degree</th>\n",
       "      <th>mean_test_score</th>\n",
       "      <th>std_test_score</th>\n",
       "    </tr>\n",
       "  </thead>\n",
       "  <tbody>\n",
       "    <tr>\n",
       "      <th>6</th>\n",
       "      <td>0.1</td>\n",
       "      <td>NaN</td>\n",
       "      <td>linear</td>\n",
       "      <td>NaN</td>\n",
       "      <td>0.988679</td>\n",
       "      <td>0.015094</td>\n",
       "    </tr>\n",
       "    <tr>\n",
       "      <th>8</th>\n",
       "      <td>10</td>\n",
       "      <td>NaN</td>\n",
       "      <td>linear</td>\n",
       "      <td>NaN</td>\n",
       "      <td>0.981272</td>\n",
       "      <td>0.016721</td>\n",
       "    </tr>\n",
       "    <tr>\n",
       "      <th>7</th>\n",
       "      <td>1</td>\n",
       "      <td>NaN</td>\n",
       "      <td>linear</td>\n",
       "      <td>NaN</td>\n",
       "      <td>0.981202</td>\n",
       "      <td>0.020669</td>\n",
       "    </tr>\n",
       "    <tr>\n",
       "      <th>5</th>\n",
       "      <td>10</td>\n",
       "      <td>0.0001</td>\n",
       "      <td>rbf</td>\n",
       "      <td>NaN</td>\n",
       "      <td>0.793641</td>\n",
       "      <td>0.047422</td>\n",
       "    </tr>\n",
       "    <tr>\n",
       "      <th>4</th>\n",
       "      <td>10</td>\n",
       "      <td>0.001</td>\n",
       "      <td>rbf</td>\n",
       "      <td>NaN</td>\n",
       "      <td>0.771628</td>\n",
       "      <td>0.023905</td>\n",
       "    </tr>\n",
       "    <tr>\n",
       "      <th>2</th>\n",
       "      <td>1</td>\n",
       "      <td>0.001</td>\n",
       "      <td>rbf</td>\n",
       "      <td>NaN</td>\n",
       "      <td>0.726205</td>\n",
       "      <td>0.056778</td>\n",
       "    </tr>\n",
       "    <tr>\n",
       "      <th>10</th>\n",
       "      <td>0.1</td>\n",
       "      <td>NaN</td>\n",
       "      <td>poly</td>\n",
       "      <td>3</td>\n",
       "      <td>0.722502</td>\n",
       "      <td>0.061415</td>\n",
       "    </tr>\n",
       "    <tr>\n",
       "      <th>11</th>\n",
       "      <td>1</td>\n",
       "      <td>NaN</td>\n",
       "      <td>poly</td>\n",
       "      <td>2</td>\n",
       "      <td>0.722502</td>\n",
       "      <td>0.046962</td>\n",
       "    </tr>\n",
       "    <tr>\n",
       "      <th>12</th>\n",
       "      <td>1</td>\n",
       "      <td>NaN</td>\n",
       "      <td>poly</td>\n",
       "      <td>3</td>\n",
       "      <td>0.722502</td>\n",
       "      <td>0.046962</td>\n",
       "    </tr>\n",
       "    <tr>\n",
       "      <th>9</th>\n",
       "      <td>0.1</td>\n",
       "      <td>NaN</td>\n",
       "      <td>poly</td>\n",
       "      <td>2</td>\n",
       "      <td>0.715094</td>\n",
       "      <td>0.057574</td>\n",
       "    </tr>\n",
       "  </tbody>\n",
       "</table>\n",
       "</div>"
      ],
      "text/plain": [
       "   param_C param_gamma param_kernel param_degree  mean_test_score  \\\n",
       "6      0.1         NaN       linear          NaN         0.988679   \n",
       "8       10         NaN       linear          NaN         0.981272   \n",
       "7        1         NaN       linear          NaN         0.981202   \n",
       "5       10      0.0001          rbf          NaN         0.793641   \n",
       "4       10       0.001          rbf          NaN         0.771628   \n",
       "2        1       0.001          rbf          NaN         0.726205   \n",
       "10     0.1         NaN         poly            3         0.722502   \n",
       "11       1         NaN         poly            2         0.722502   \n",
       "12       1         NaN         poly            3         0.722502   \n",
       "9      0.1         NaN         poly            2         0.715094   \n",
       "\n",
       "    std_test_score  \n",
       "6         0.015094  \n",
       "8         0.016721  \n",
       "7         0.020669  \n",
       "5         0.047422  \n",
       "4         0.023905  \n",
       "2         0.056778  \n",
       "10        0.061415  \n",
       "11        0.046962  \n",
       "12        0.046962  \n",
       "9         0.057574  "
      ]
     },
     "execution_count": 19,
     "metadata": {},
     "output_type": "execute_result"
    }
   ],
   "source": [
    "from sklearn.model_selection import GridSearchCV\n",
    "from sklearn.svm import SVC\n",
    " \n",
    "# Hiperparametros\n",
    "param_grid = [\n",
    "    {\"kernel\": [\"rbf\"], \"gamma\": [1e-3, 1e-4], \"C\": [0.1,1,10]},\n",
    "    {\"kernel\": [\"linear\"], \"C\": [0.1,1,10]},\n",
    "    {\"kernel\": [\"poly\"], \"C\": [0.1,1,10], \"degree\": [2,3]},\n",
    "]\n",
    " \n",
    "grid = GridSearchCV(\n",
    "        estimator  = SVC(),\n",
    "        param_grid = param_grid, \n",
    "      )\n",
    "# Se asigna el resultado a _ para que no se imprima por pantalla\n",
    "grid.fit(X = X_train_prepared, y = y_train)\n",
    "\n",
    "# Resultados del grid\n",
    "# ==============================================================================\n",
    "resultados = pd.DataFrame(grid.cv_results_)\n",
    "resultados.filter(regex = '(param.*|mean_t|std_t)')\\\n",
    "    .drop(columns = 'params')\\\n",
    "    .sort_values('mean_test_score', ascending = False) \\\n",
    "    .head(10)"
   ]
  },
  {
   "cell_type": "markdown",
   "metadata": {},
   "source": [
    "*Luego del Grid Search observamos que el mejor modelo de SVM es con el hiperparametro C = 0.1 y un kernel linear*"
   ]
  },
  {
   "cell_type": "code",
   "execution_count": 20,
   "metadata": {},
   "outputs": [
    {
     "data": {
      "text/plain": [
       "Pipeline(steps=[('scaler', StandardScaler()),\n",
       "                ('linear_svc', LinearSVC(C=0.1, loss='hinge', max_iter=10000))])"
      ]
     },
     "execution_count": 20,
     "metadata": {},
     "output_type": "execute_result"
    }
   ],
   "source": [
    "svm_classifier_gs = Pipeline([\n",
    "                           (\"scaler\", StandardScaler()),\n",
    "                           (\"linear_svc\", LinearSVC(C=0.1, loss=\"hinge\", max_iter=10000)),\n",
    "])\n",
    "# Definir una secuencia de acciones (pipeline) sencilla, consistente en entrenar un modelo SVM \n",
    "# precedido de un escalado de los atributos.\n",
    "\n",
    "svm_classifier_gs.fit(X_train_prepared, y_train)"
   ]
  },
  {
   "cell_type": "code",
   "execution_count": 21,
   "metadata": {},
   "outputs": [
    {
     "name": "stdout",
     "output_type": "stream",
     "text": [
      "1.0\n"
     ]
    }
   ],
   "source": [
    "y_pred_te_svm = svm_classifier_gs.predict(X_test_prepared)\n",
    "resultado_svm_te_gs = accuracy_score(y_test, y_pred_te_svm)\n",
    "print (resultado_svm_te_gs)\n",
    "# Evaluamos la precisión del modelo en test"
   ]
  },
  {
   "cell_type": "markdown",
   "metadata": {},
   "source": [
    "## **Que sucede si no preprocesamos los datos ?** ##"
   ]
  },
  {
   "cell_type": "code",
   "execution_count": 22,
   "metadata": {},
   "outputs": [
    {
     "data": {
      "text/html": [
       "<div>\n",
       "<style scoped>\n",
       "    .dataframe tbody tr th:only-of-type {\n",
       "        vertical-align: middle;\n",
       "    }\n",
       "\n",
       "    .dataframe tbody tr th {\n",
       "        vertical-align: top;\n",
       "    }\n",
       "\n",
       "    .dataframe thead th {\n",
       "        text-align: right;\n",
       "    }\n",
       "</style>\n",
       "<table border=\"1\" class=\"dataframe\">\n",
       "  <thead>\n",
       "    <tr style=\"text-align: right;\">\n",
       "      <th></th>\n",
       "      <th>species</th>\n",
       "      <th>island</th>\n",
       "      <th>culmen_length_mm</th>\n",
       "      <th>culmen_depth_mm</th>\n",
       "      <th>flipper_length_mm</th>\n",
       "      <th>body_mass_g</th>\n",
       "      <th>sex</th>\n",
       "    </tr>\n",
       "  </thead>\n",
       "  <tbody>\n",
       "    <tr>\n",
       "      <th>0</th>\n",
       "      <td>Adelie</td>\n",
       "      <td>Torgersen</td>\n",
       "      <td>39.1</td>\n",
       "      <td>18.7</td>\n",
       "      <td>181.0</td>\n",
       "      <td>3750.0</td>\n",
       "      <td>MALE</td>\n",
       "    </tr>\n",
       "    <tr>\n",
       "      <th>1</th>\n",
       "      <td>Adelie</td>\n",
       "      <td>Torgersen</td>\n",
       "      <td>39.5</td>\n",
       "      <td>17.4</td>\n",
       "      <td>186.0</td>\n",
       "      <td>3800.0</td>\n",
       "      <td>FEMALE</td>\n",
       "    </tr>\n",
       "    <tr>\n",
       "      <th>2</th>\n",
       "      <td>Adelie</td>\n",
       "      <td>Torgersen</td>\n",
       "      <td>40.3</td>\n",
       "      <td>18.0</td>\n",
       "      <td>195.0</td>\n",
       "      <td>3250.0</td>\n",
       "      <td>FEMALE</td>\n",
       "    </tr>\n",
       "    <tr>\n",
       "      <th>4</th>\n",
       "      <td>Adelie</td>\n",
       "      <td>Torgersen</td>\n",
       "      <td>36.7</td>\n",
       "      <td>19.3</td>\n",
       "      <td>193.0</td>\n",
       "      <td>3450.0</td>\n",
       "      <td>FEMALE</td>\n",
       "    </tr>\n",
       "    <tr>\n",
       "      <th>5</th>\n",
       "      <td>Adelie</td>\n",
       "      <td>Torgersen</td>\n",
       "      <td>39.3</td>\n",
       "      <td>20.6</td>\n",
       "      <td>190.0</td>\n",
       "      <td>3650.0</td>\n",
       "      <td>MALE</td>\n",
       "    </tr>\n",
       "  </tbody>\n",
       "</table>\n",
       "</div>"
      ],
      "text/plain": [
       "  species     island  culmen_length_mm  culmen_depth_mm  flipper_length_mm  \\\n",
       "0  Adelie  Torgersen              39.1             18.7              181.0   \n",
       "1  Adelie  Torgersen              39.5             17.4              186.0   \n",
       "2  Adelie  Torgersen              40.3             18.0              195.0   \n",
       "4  Adelie  Torgersen              36.7             19.3              193.0   \n",
       "5  Adelie  Torgersen              39.3             20.6              190.0   \n",
       "\n",
       "   body_mass_g     sex  \n",
       "0       3750.0    MALE  \n",
       "1       3800.0  FEMALE  \n",
       "2       3250.0  FEMALE  \n",
       "4       3450.0  FEMALE  \n",
       "5       3650.0    MALE  "
      ]
     },
     "execution_count": 22,
     "metadata": {},
     "output_type": "execute_result"
    }
   ],
   "source": [
    "import pandas as pd\n",
    "penguinsNO = pd.read_csv('penguins_size.csv').dropna()\n",
    "penguinsNO.head()"
   ]
  },
  {
   "cell_type": "code",
   "execution_count": 23,
   "metadata": {},
   "outputs": [],
   "source": [
    "from sklearn.model_selection import train_test_split\n",
    "\n",
    "# Separar atributos predictores y atributo de clase\n",
    "# Para los atributos predictores nos quedamos solamente con los numéricos y excluimos los categóricos\n",
    "X = penguinsNO.select_dtypes(exclude=['object'])\n",
    "y = penguinsNO.species\n",
    "\n",
    "# Crear conjuntos de entrenamiento y test\n",
    "X_train, X_test, y_train, y_test = train_test_split(X, y, test_size=.3, random_state=4)"
   ]
  },
  {
   "cell_type": "code",
   "execution_count": 24,
   "metadata": {
    "id": "GQFhDW12E-Xp"
   },
   "outputs": [],
   "source": [
    "from sklearn.pipeline import Pipeline\n",
    "from sklearn.preprocessing import StandardScaler\n",
    "from sklearn.svm import LinearSVC \n",
    "# Cargamos la librería, esta vez utilizamos un Pipeline y el modelo SVM previo escalado de los datos"
   ]
  },
  {
   "cell_type": "code",
   "execution_count": 25,
   "metadata": {
    "colab": {
     "base_uri": "https://localhost:8080/"
    },
    "id": "1Bv8AcciF4jE",
    "outputId": "a6403f70-1134-42a4-ddb0-3e309ca835a0"
   },
   "outputs": [
    {
     "data": {
      "text/plain": [
       "Pipeline(steps=[('scaler', StandardScaler()),\n",
       "                ('linear_svc', LinearSVC(C=1, loss='hinge', max_iter=10000))])"
      ]
     },
     "execution_count": 25,
     "metadata": {},
     "output_type": "execute_result"
    }
   ],
   "source": [
    "svm_classifier = Pipeline([\n",
    "                           (\"scaler\", StandardScaler()),\n",
    "                           (\"linear_svc\", LinearSVC(C=1, loss=\"hinge\", max_iter=10000)),\n",
    "])\n",
    "# Definir una secuencia de acciones (pipeline) sencilla, consistente en entrenar un modelo SVM \n",
    "# precedido de un escalado de los atributos.\n",
    "\n",
    "svm_classifier.fit(X_train, y_train)"
   ]
  },
  {
   "cell_type": "code",
   "execution_count": 26,
   "metadata": {},
   "outputs": [
    {
     "name": "stdout",
     "output_type": "stream",
     "text": [
      "0.9871244635193133\n"
     ]
    }
   ],
   "source": [
    "y_pred_tr_svm = svm_classifier.predict(X_train)\n",
    "resultado_svm_tr = accuracy_score(y_train, y_pred_tr_svm)\n",
    "print (resultado_svm_tr)\n",
    "# Evaluamos la precisión del modelo en entrenamiento"
   ]
  },
  {
   "cell_type": "code",
   "execution_count": 27,
   "metadata": {
    "colab": {
     "base_uri": "https://localhost:8080/"
    },
    "id": "AiJ0nkpgGmyp",
    "outputId": "172965d5-3eba-4897-b7f1-412de7d9afc2"
   },
   "outputs": [
    {
     "name": "stdout",
     "output_type": "stream",
     "text": [
      "0.9801980198019802\n"
     ]
    }
   ],
   "source": [
    "y_pred_te_svm = svm_classifier.predict(X_test)\n",
    "resultado_svm_te = accuracy_score(y_test, y_pred_te_svm)\n",
    "print (resultado_svm_te)\n",
    "# Evaluamos la precisión del modelo en test"
   ]
  },
  {
   "cell_type": "code",
   "execution_count": 28,
   "metadata": {},
   "outputs": [
    {
     "name": "stdout",
     "output_type": "stream",
     "text": [
      "1.0\n",
      "0.9801980198019802\n"
     ]
    }
   ],
   "source": [
    "SVM_procesador = print (resultado_svm_te_gs)\n",
    "SVM_no_procesado = print (resultado_svm_te)"
   ]
  },
  {
   "cell_type": "markdown",
   "metadata": {},
   "source": [
    "**Sin preprocesar nuestros datos, de obtener una precisión del 100 % en nuestro clasificador de SVM, caemos a un 98 %. Si bien ambos resultados son óptimos, sirve la diferencia para destacar la importancia del preprocesamiento de los datos**"
   ]
  },
  {
   "cell_type": "markdown",
   "metadata": {
    "tags": []
   },
   "source": [
    "### PARTE OPCIONAL: Reformular el problema de clasificación de pingüinos como una clasificación binaria (clase positiva vs clase negativa) y entrenar y evaluar un modelo de regresión logística. ###"
   ]
  },
  {
   "cell_type": "code",
   "execution_count": 29,
   "metadata": {},
   "outputs": [],
   "source": [
    "X = penguins.drop(\"species\", axis=1)\n",
    "\n",
    "y = penguins.species.astype(\"category\").cat.codes == 1\n",
    "\n",
    "\n",
    "X_train, X_test, y_train, y_test = train_test_split(\n",
    "                        X, y, test_size=.2, random_state=42)"
   ]
  },
  {
   "cell_type": "code",
   "execution_count": 30,
   "metadata": {
    "colab": {
     "base_uri": "https://localhost:8080/",
     "height": 206
    },
    "id": "3725IBpg3Qu8",
    "outputId": "c7872d15-a2bd-4cae-eb01-3f0b4206fa4c"
   },
   "outputs": [],
   "source": [
    "X_train_num = X_train.drop([\"island\", \"sex\"], axis=1) # Obtener una versión solo con atributos numéricos para rellenar valores perdidos\n",
    "\n",
    "from sklearn.impute import SimpleImputer\n",
    "\n",
    "num_imputer = SimpleImputer(strategy=\"median\") # Rellenar valores perdidos de atributos numéricos con la mediana de éste\n",
    "\n",
    "X_train_num_array = num_imputer.fit_transform(X_train_num)\n",
    "X_train_num = pd.DataFrame(X_train_num_array, columns=X_train_num.columns, index=X_train_num.index) # Al aplicar una imputación se pierde la estructura de DataFrame, pero se puede volver a crear"
   ]
  },
  {
   "cell_type": "code",
   "execution_count": 31,
   "metadata": {
    "colab": {
     "base_uri": "https://localhost:8080/",
     "height": 261
    },
    "id": "qzX0ENdA8WqG",
    "outputId": "c2b6ff7c-9370-42b8-a31b-5aa9b8d8576a"
   },
   "outputs": [],
   "source": [
    "from sklearn.preprocessing import OneHotEncoder\n",
    "\n",
    "# Initialize the OneHotEncoder\n",
    "encoder = OneHotEncoder()\n",
    "\n",
    "encoder.fit(X_train[[\"island\"]])\n",
    "X_train_encoded = encoder.transform(X_train[[\"island\"]]).toarray()\n",
    "\n",
    "X_train_encoded_df = pd.DataFrame(X_train_encoded, columns=encoder.get_feature_names(X_train[[\"island\"]].columns))"
   ]
  },
  {
   "cell_type": "code",
   "execution_count": 32,
   "metadata": {
    "colab": {
     "base_uri": "https://localhost:8080/",
     "height": 423
    },
    "id": "JoZ2jidg_6Ax",
    "outputId": "b026efb7-5b04-433e-c593-20276c8d201c"
   },
   "outputs": [],
   "source": [
    "X_train_num.reset_index(drop=True, inplace=True) # Resetear índices de las instancias para asegurar coherencia al fusionar los datos\n",
    "\n",
    "X_train_encoded_df.reset_index(drop=True, inplace=True) # Resetear índices de las instancias para asegurar coherencia al fusionar los datos\n",
    "\n",
    "X_train_prepared = pd.concat([X_train_num, X_train_encoded_df], axis=1) # Se fusionan todos los atributos necesarios"
   ]
  },
  {
   "cell_type": "code",
   "execution_count": 33,
   "metadata": {
    "colab": {
     "base_uri": "https://localhost:8080/",
     "height": 478
    },
    "id": "B7IZRuqpDHh9",
    "outputId": "19c67055-cfd7-4f26-dcbc-c15b0e0f8ef5"
   },
   "outputs": [],
   "source": [
    "X_test_encoded = encoder.transform(X_test[[\"island\"]]).toarray() # Aplicar transformador OneHotEncoder\n",
    "\n",
    "X_test_encoded_df = pd.DataFrame(X_test_encoded,\n",
    "                                 columns=encoder.get_feature_names(X_test[[\"island\"]].columns))\n",
    "\n",
    "X_test_num = X_test.drop([\"island\",\"sex\"], axis=1)\n",
    "\n",
    "X_test_num_array = num_imputer.transform(X_test_num) # Aplicar transformador para imputar valores numéricos perdidos\n",
    "X_test_num = pd.DataFrame(X_test_num_array, columns=X_test_num.columns, index=X_test_num.index) \n",
    "# Al aplicar una imputación se pierde la estructura de DataFrame, pero se puede volver a crear\n",
    "\n",
    "# Resetear indices en atributos numéricos y en los binarios (derivados del atributo categórico), antes de fusionarlos.\n",
    "X_test_num.reset_index(drop=True, inplace=True)\n",
    "X_test_encoded_df.reset_index(drop=True, inplace=True)\n",
    "\n",
    "X_test_prepared = pd.concat([X_test_num,X_test_encoded_df], axis=1) # Se fusionan todos los atributos necesarios"
   ]
  },
  {
   "cell_type": "code",
   "execution_count": 34,
   "metadata": {},
   "outputs": [
    {
     "data": {
      "text/plain": [
       "0.9701492537313433"
      ]
     },
     "execution_count": 34,
     "metadata": {},
     "output_type": "execute_result"
    }
   ],
   "source": [
    "log_reg = LogisticRegression(max_iter=1000) # Usamos este hiperparámetro para asegurar convergencia.\n",
    "log_reg.fit(X_train_prepared, y_train)\n",
    "\n",
    "test_predictions = log_reg.predict(X_test_prepared)\n",
    "\n",
    "score = log_reg.score(X_test_prepared, y_test) # Calculamos el proder predictivo del modelo sobre el conjunto de test como el % de aciertos.\n",
    "score"
   ]
  },
  {
   "cell_type": "markdown",
   "metadata": {},
   "source": [
    "*Utilizando una clasificación binaria, donde nuestro resultado sea clasificar si corresponden o no a una clase de pinguino, nuestro clasificador de regresión logística tiene un accuracy de 0.97, lo cual es un buen resultado también, pero observamos como el rendimiento del clasificador baja cuando pasamos de una clasificación binaria a una clasificación multiclase.*"
   ]
  },
  {
   "cell_type": "markdown",
   "metadata": {
    "tags": []
   },
   "source": [
    "# Sprint 2 #"
   ]
  },
  {
   "cell_type": "markdown",
   "metadata": {},
   "source": [
    "1. Entrenar 4 modelos de árbol de decisión: uno de ellos sin restricciones algunas (sin especificar hiperparámetros), y los otros tres bajo diferentes configuraciones de hiperparámetros que apliquen regularización sobre el crecimiento y forma del árbol durante su entrenamiento.\n",
    "\n",
    "2. Identificar y justificar la elección del árbol con mejor poder predictivo.\n",
    "\n",
    "3. Comparar los resultados con los de los clasificadores entrenados en tu sprint anterior, y determinar el mejor clasificador encontrado hasta ahora."
   ]
  },
  {
   "cell_type": "code",
   "execution_count": 35,
   "metadata": {},
   "outputs": [],
   "source": [
    "from sklearn import tree\n",
    "import matplotlib.pyplot as plt"
   ]
  },
  {
   "cell_type": "markdown",
   "metadata": {},
   "source": [
    "### Punto 1: Entrenar 4 arboles de decisión. ###"
   ]
  },
  {
   "cell_type": "code",
   "execution_count": 36,
   "metadata": {},
   "outputs": [],
   "source": [
    "X = penguins.drop(\"species\", axis=1)\n",
    "\n",
    "y = penguins.species.astype(\"category\").cat.codes \n",
    "\n",
    "\n",
    "X_train, X_test, y_train, y_test = train_test_split(\n",
    "                        X, y, test_size=.3, random_state=42)"
   ]
  },
  {
   "cell_type": "code",
   "execution_count": 37,
   "metadata": {
    "colab": {
     "base_uri": "https://localhost:8080/",
     "height": 206
    },
    "id": "3725IBpg3Qu8",
    "outputId": "c7872d15-a2bd-4cae-eb01-3f0b4206fa4c"
   },
   "outputs": [],
   "source": [
    "X_train_num = X_train.drop([\"island\", \"sex\"], axis=1) # Obtener una versión solo con atributos numéricos para rellenar valores perdidos\n",
    "\n",
    "from sklearn.impute import SimpleImputer\n",
    "\n",
    "num_imputer = SimpleImputer(strategy=\"median\") # Rellenar valores perdidos de atributos numéricos con la mediana de éste\n",
    "\n",
    "X_train_num_array = num_imputer.fit_transform(X_train_num)\n",
    "X_train_num = pd.DataFrame(X_train_num_array, columns=X_train_num.columns, index=X_train_num.index) # Al aplicar una imputación se pierde la estructura de DataFrame, pero se puede volver a crear"
   ]
  },
  {
   "cell_type": "code",
   "execution_count": 38,
   "metadata": {
    "colab": {
     "base_uri": "https://localhost:8080/",
     "height": 261
    },
    "id": "qzX0ENdA8WqG",
    "outputId": "c2b6ff7c-9370-42b8-a31b-5aa9b8d8576a"
   },
   "outputs": [],
   "source": [
    "from sklearn.preprocessing import OneHotEncoder\n",
    "\n",
    "# Initialize the OneHotEncoder\n",
    "encoder = OneHotEncoder()\n",
    "\n",
    "encoder.fit(X_train[[\"island\"]])\n",
    "X_train_encoded = encoder.transform(X_train[[\"island\"]]).toarray()\n",
    "\n",
    "X_train_encoded_df = pd.DataFrame(X_train_encoded, columns=encoder.get_feature_names(X_train[[\"island\"]].columns))"
   ]
  },
  {
   "cell_type": "code",
   "execution_count": 39,
   "metadata": {
    "colab": {
     "base_uri": "https://localhost:8080/",
     "height": 423
    },
    "id": "JoZ2jidg_6Ax",
    "outputId": "b026efb7-5b04-433e-c593-20276c8d201c"
   },
   "outputs": [],
   "source": [
    "X_train_num.reset_index(drop=True, inplace=True) # Resetear índices de las instancias para asegurar coherencia al fusionar los datos\n",
    "\n",
    "X_train_encoded_df.reset_index(drop=True, inplace=True) # Resetear índices de las instancias para asegurar coherencia al fusionar los datos\n",
    "\n",
    "X_train_prepared = pd.concat([X_train_num, X_train_encoded_df], axis=1) # Se fusionan todos los atributos necesarios"
   ]
  },
  {
   "cell_type": "code",
   "execution_count": 40,
   "metadata": {
    "colab": {
     "base_uri": "https://localhost:8080/",
     "height": 478
    },
    "id": "B7IZRuqpDHh9",
    "outputId": "19c67055-cfd7-4f26-dcbc-c15b0e0f8ef5"
   },
   "outputs": [],
   "source": [
    "X_test_encoded = encoder.transform(X_test[[\"island\"]]).toarray() # Aplicar transformador OneHotEncoder\n",
    "\n",
    "X_test_encoded_df = pd.DataFrame(X_test_encoded,\n",
    "                                 columns=encoder.get_feature_names(X_test[[\"island\"]].columns))\n",
    "\n",
    "X_test_num = X_test.drop([\"island\",\"sex\"], axis=1)\n",
    "\n",
    "X_test_num_array = num_imputer.transform(X_test_num) # Aplicar transformador para imputar valores numéricos perdidos\n",
    "X_test_num = pd.DataFrame(X_test_num_array, columns=X_test_num.columns, index=X_test_num.index) \n",
    "# Al aplicar una imputación se pierde la estructura de DataFrame, pero se puede volver a crear\n",
    "\n",
    "# Resetear indices en atributos numéricos y en los binarios (derivados del atributo categórico), antes de fusionarlos.\n",
    "X_test_num.reset_index(drop=True, inplace=True)\n",
    "X_test_encoded_df.reset_index(drop=True, inplace=True)\n",
    "\n",
    "X_test_prepared = pd.concat([X_test_num,X_test_encoded_df], axis=1) # Se fusionan todos los atributos necesarios"
   ]
  },
  {
   "cell_type": "code",
   "execution_count": 41,
   "metadata": {},
   "outputs": [
    {
     "name": "stdout",
     "output_type": "stream",
     "text": [
      "accuracy score para train: 1.0\n",
      "accuracy score para test: 0.9801980198019802\n"
     ]
    }
   ],
   "source": [
    "from sklearn.tree import DecisionTreeClassifier\n",
    "from sklearn.metrics import confusion_matrix\n",
    "from sklearn.metrics import classification_report\n",
    "\n",
    "# Primer árbol sin restricciones\n",
    "tree_clf1 = DecisionTreeClassifier(random_state=42)\n",
    "\n",
    "tree_clf1.fit(X_train_prepared, y_train)\n",
    "y_pred1_tr = tree_clf1.predict(X_train_prepared)\n",
    "print ('accuracy score para train:',accuracy_score(y_pred1_tr, y_train))\n",
    "y_pred1_te = tree_clf1.predict(X_test_prepared)\n",
    "print ('accuracy score para test:',accuracy_score(y_pred1_te, y_test))"
   ]
  },
  {
   "cell_type": "code",
   "execution_count": 42,
   "metadata": {},
   "outputs": [
    {
     "name": "stdout",
     "output_type": "stream",
     "text": [
      "[[48  1  0]\n",
      " [ 1 17  0]\n",
      " [ 0  0 34]]\n"
     ]
    }
   ],
   "source": [
    "print(confusion_matrix(y_test, y_pred1_te))"
   ]
  },
  {
   "cell_type": "code",
   "execution_count": 43,
   "metadata": {},
   "outputs": [
    {
     "name": "stdout",
     "output_type": "stream",
     "text": [
      "              precision    recall  f1-score   support\n",
      "\n",
      "           0       0.98      0.98      0.98        49\n",
      "           1       0.94      0.94      0.94        18\n",
      "           2       1.00      1.00      1.00        34\n",
      "\n",
      "    accuracy                           0.98       101\n",
      "   macro avg       0.97      0.97      0.97       101\n",
      "weighted avg       0.98      0.98      0.98       101\n",
      "\n"
     ]
    }
   ],
   "source": [
    "print(classification_report(y_test, y_pred1_te))"
   ]
  },
  {
   "cell_type": "code",
   "execution_count": 44,
   "metadata": {},
   "outputs": [
    {
     "data": {
      "image/png": "[encoded data removed]",
      "text/plain": [
       "<Figure size 720x576 with 1 Axes>"
      ]
     },
     "metadata": {
      "needs_background": "light"
     },
     "output_type": "display_data"
    }
   ],
   "source": [
    "plt.figure(figsize = (10,8))\n",
    "tree.plot_tree(tree_clf1, filled = True, feature_names= X.columns)\n",
    "plt.show()"
   ]
  },
  {
   "cell_type": "code",
   "execution_count": 45,
   "metadata": {},
   "outputs": [
    {
     "name": "stdout",
     "output_type": "stream",
     "text": [
      "accuracy score para train: 1.0\n",
      "accuracy score para test: 0.9801980198019802\n"
     ]
    }
   ],
   "source": [
    "# Segundo árbol con max_depth = 5\n",
    "tree_clf2 = DecisionTreeClassifier(max_depth=5, random_state=42)\n",
    "\n",
    "tree_clf2.fit(X_train_prepared, y_train)\n",
    "y_pred2_tr = tree_clf2.predict(X_train_prepared)\n",
    "print ('accuracy score para train:',accuracy_score(y_pred2_tr, y_train))\n",
    "y_pred2_te= tree_clf2.predict(X_test_prepared)\n",
    "print ('accuracy score para test:',accuracy_score(y_pred2_te, y_test))"
   ]
  },
  {
   "cell_type": "code",
   "execution_count": 46,
   "metadata": {},
   "outputs": [
    {
     "name": "stdout",
     "output_type": "stream",
     "text": [
      "[[48  1  0]\n",
      " [ 1 17  0]\n",
      " [ 0  0 34]]\n"
     ]
    }
   ],
   "source": [
    "print(confusion_matrix(y_test, y_pred2_te))"
   ]
  },
  {
   "cell_type": "code",
   "execution_count": 47,
   "metadata": {},
   "outputs": [
    {
     "name": "stdout",
     "output_type": "stream",
     "text": [
      "              precision    recall  f1-score   support\n",
      "\n",
      "           0       0.98      0.98      0.98        49\n",
      "           1       0.94      0.94      0.94        18\n",
      "           2       1.00      1.00      1.00        34\n",
      "\n",
      "    accuracy                           0.98       101\n",
      "   macro avg       0.97      0.97      0.97       101\n",
      "weighted avg       0.98      0.98      0.98       101\n",
      "\n"
     ]
    }
   ],
   "source": [
    "print(classification_report(y_test, y_pred2_te))"
   ]
  },
  {
   "cell_type": "code",
   "execution_count": 48,
   "metadata": {},
   "outputs": [
    {
     "data": {
      "image/png": "[encoded data removed]",
      "text/plain": [
       "<Figure size 720x576 with 1 Axes>"
      ]
     },
     "metadata": {
      "needs_background": "light"
     },
     "output_type": "display_data"
    }
   ],
   "source": [
    "plt.figure(figsize = (10,8))\n",
    "tree.plot_tree(tree_clf2, filled = True, feature_names= X.columns)\n",
    "plt.show()"
   ]
  },
  {
   "cell_type": "code",
   "execution_count": 49,
   "metadata": {},
   "outputs": [
    {
     "name": "stdout",
     "output_type": "stream",
     "text": [
      "accuracy score para train: 0.9699570815450643\n",
      "accuracy score para test: 0.9801980198019802\n"
     ]
    }
   ],
   "source": [
    "# Tercer árbol con min_samples_split=10\n",
    "tree_clf3 = DecisionTreeClassifier(min_samples_split=10, random_state=42)\n",
    "\n",
    "tree_clf3.fit(X_train_prepared, y_train)\n",
    "y_pred3_tr = tree_clf3.predict(X_train_prepared)\n",
    "print ('accuracy score para train:',accuracy_score(y_pred3_tr, y_train))\n",
    "y_pred3_te= tree_clf3.predict(X_test_prepared)\n",
    "print ('accuracy score para test:',accuracy_score(y_pred3_te, y_test))"
   ]
  },
  {
   "cell_type": "code",
   "execution_count": 50,
   "metadata": {},
   "outputs": [
    {
     "name": "stdout",
     "output_type": "stream",
     "text": [
      "[[49  0  0]\n",
      " [ 2 16  0]\n",
      " [ 0  0 34]]\n"
     ]
    }
   ],
   "source": [
    "print(confusion_matrix(y_test, y_pred3_te))"
   ]
  },
  {
   "cell_type": "code",
   "execution_count": 51,
   "metadata": {},
   "outputs": [
    {
     "name": "stdout",
     "output_type": "stream",
     "text": [
      "              precision    recall  f1-score   support\n",
      "\n",
      "           0       0.96      1.00      0.98        49\n",
      "           1       1.00      0.89      0.94        18\n",
      "           2       1.00      1.00      1.00        34\n",
      "\n",
      "    accuracy                           0.98       101\n",
      "   macro avg       0.99      0.96      0.97       101\n",
      "weighted avg       0.98      0.98      0.98       101\n",
      "\n"
     ]
    }
   ],
   "source": [
    "print(classification_report(y_test, y_pred3_te))"
   ]
  },
  {
   "cell_type": "code",
   "execution_count": 52,
   "metadata": {},
   "outputs": [
    {
     "data": {
      "image/png": "[encoded data removed]",
      "text/plain": [
       "<Figure size 720x576 with 1 Axes>"
      ]
     },
     "metadata": {
      "needs_background": "light"
     },
     "output_type": "display_data"
    }
   ],
   "source": [
    "plt.figure(figsize = (10,8))\n",
    "tree.plot_tree(tree_clf3, filled = True, feature_names= X.columns)\n",
    "plt.show()"
   ]
  },
  {
   "cell_type": "code",
   "execution_count": 53,
   "metadata": {},
   "outputs": [
    {
     "name": "stdout",
     "output_type": "stream",
     "text": [
      "accuracy score para train: 0.9699570815450643\n",
      "accuracy score para test: 0.9801980198019802\n"
     ]
    }
   ],
   "source": [
    "# Cuarto árbol combinando 3 hiperparametros\n",
    "tree_clf4 = DecisionTreeClassifier(max_depth =5, min_samples_split=10, max_leaf_nodes = 5, random_state=42)\n",
    "\n",
    "tree_clf4.fit(X_train_prepared, y_train)\n",
    "y_pred4_tr = tree_clf4.predict(X_train_prepared)\n",
    "print ('accuracy score para train:',accuracy_score(y_pred4_tr, y_train))\n",
    "y_pred4_te= tree_clf4.predict(X_test_prepared)\n",
    "print ('accuracy score para test:',accuracy_score(y_pred4_te, y_test))"
   ]
  },
  {
   "cell_type": "code",
   "execution_count": 54,
   "metadata": {},
   "outputs": [
    {
     "name": "stdout",
     "output_type": "stream",
     "text": [
      "[[49  0  0]\n",
      " [ 2 16  0]\n",
      " [ 0  0 34]]\n"
     ]
    }
   ],
   "source": [
    "print(confusion_matrix(y_test, y_pred4_te))"
   ]
  },
  {
   "cell_type": "code",
   "execution_count": 55,
   "metadata": {},
   "outputs": [
    {
     "name": "stdout",
     "output_type": "stream",
     "text": [
      "              precision    recall  f1-score   support\n",
      "\n",
      "           0       0.96      1.00      0.98        49\n",
      "           1       1.00      0.89      0.94        18\n",
      "           2       1.00      1.00      1.00        34\n",
      "\n",
      "    accuracy                           0.98       101\n",
      "   macro avg       0.99      0.96      0.97       101\n",
      "weighted avg       0.98      0.98      0.98       101\n",
      "\n"
     ]
    }
   ],
   "source": [
    "print(classification_report(y_test, y_pred4_te))"
   ]
  },
  {
   "cell_type": "code",
   "execution_count": 56,
   "metadata": {},
   "outputs": [
    {
     "data": {
      "image/png": "[encoded data removed]",
      "text/plain": [
       "<Figure size 720x576 with 1 Axes>"
      ]
     },
     "metadata": {
      "needs_background": "light"
     },
     "output_type": "display_data"
    }
   ],
   "source": [
    "plt.figure(figsize = (10,8))\n",
    "tree.plot_tree(tree_clf4, filled = True, feature_names= X.columns)\n",
    "plt.show()"
   ]
  },
  {
   "cell_type": "markdown",
   "metadata": {
    "tags": []
   },
   "source": [
    "### Punto 2: Identificar y justificar la elección del árbol con mejor poder predictivo. ###"
   ]
  },
  {
   "cell_type": "markdown",
   "metadata": {},
   "source": [
    "*Por lo anteriormente expuesto, creo que el mejor árbol es el nro 3 **(tree_clf3 = DecisionTreeClassifier(min_samples_split=10, random_state=42)** con un accuracy similar entre train y test nos demuestra que no existe overfitting en nuestro modelo, y que clasifica al 100 % tanto la clase 1 como la clase 3, con dos errores en la clase 1 (recall).*"
   ]
  },
  {
   "cell_type": "code",
   "execution_count": 57,
   "metadata": {},
   "outputs": [
    {
     "name": "stdout",
     "output_type": "stream",
     "text": [
      "accuracy score para train: 0.9699570815450643\n",
      "accuracy score para test: 0.9801980198019802\n"
     ]
    }
   ],
   "source": [
    "print ('accuracy score para train:',accuracy_score(y_pred3_tr, y_train))\n",
    "print ('accuracy score para test:',accuracy_score(y_pred3_te, y_test))"
   ]
  },
  {
   "cell_type": "code",
   "execution_count": 58,
   "metadata": {},
   "outputs": [
    {
     "name": "stdout",
     "output_type": "stream",
     "text": [
      "[[49  0  0]\n",
      " [ 2 16  0]\n",
      " [ 0  0 34]]\n"
     ]
    }
   ],
   "source": [
    "print(confusion_matrix(y_test, y_pred3_te))"
   ]
  },
  {
   "cell_type": "code",
   "execution_count": 59,
   "metadata": {},
   "outputs": [
    {
     "name": "stdout",
     "output_type": "stream",
     "text": [
      "              precision    recall  f1-score   support\n",
      "\n",
      "           0       0.96      1.00      0.98        49\n",
      "           1       1.00      0.89      0.94        18\n",
      "           2       1.00      1.00      1.00        34\n",
      "\n",
      "    accuracy                           0.98       101\n",
      "   macro avg       0.99      0.96      0.97       101\n",
      "weighted avg       0.98      0.98      0.98       101\n",
      "\n"
     ]
    }
   ],
   "source": [
    "print(classification_report(y_test, y_pred3_te))"
   ]
  },
  {
   "cell_type": "markdown",
   "metadata": {},
   "source": [
    "### Punto 3: Comparar los resultados con los de los clasificadores entrenados en tu sprint anterior, y determinar el mejor clasificador encontrado hasta ahora. ###"
   ]
  },
  {
   "cell_type": "markdown",
   "metadata": {},
   "source": [
    "*De los anteriores modelos, comparando los resultados vemos que el mejor hasta ahora es el Regresor SoftMax **softmax_reg = LogisticRegression(multi_class=\"multinomial\", solver=\"lbfgs\", max_iter=10000)** con un resultado superior al de nuestro mejor árbol de decisión y al SVM.*"
   ]
  },
  {
   "cell_type": "code",
   "execution_count": 60,
   "metadata": {},
   "outputs": [
    {
     "name": "stdout",
     "output_type": "stream",
     "text": [
      "accuracy score para Regresión SoftMax: 0.9850746268656716\n",
      "accuracy score para Arbol de Decisión: 0.9801980198019802\n",
      "accuracy score para Support Vector Machine: 0.9801980198019802\n"
     ]
    }
   ],
   "source": [
    "print ('accuracy score para Regresión SoftMax:',resultado_sm_te)\n",
    "print ('accuracy score para Arbol de Decisión:',accuracy_score(y_pred3_te, y_test))\n",
    "print ('accuracy score para Support Vector Machine:',resultado_svm_te)"
   ]
  },
  {
   "cell_type": "markdown",
   "metadata": {},
   "source": [
    "**Entre todos los clasificador hasta el momento entrenados, utilizando todas las variantes númericas y categóricas, nuestro mejor clasificador es el Support Vector Machine con grid search mostrando los mejores parámetros para utilizarlo.**"
   ]
  },
  {
   "cell_type": "markdown",
   "metadata": {},
   "source": [
    "# Sprint 3 #"
   ]
  },
  {
   "cell_type": "markdown",
   "metadata": {},
   "source": [
    "*Aplicar al menos dos de los cuatro tipos de ensembles de scikit-learn vistos en clase -a elegir entre BaggingClassifier, AdaBoostClassifier, GradientBoostingClassifier y RandomForestClassifier- bajo dos configuraciones de hiperparámetros diferentes para cada tipo de ensemble elegido. Comparar y discutir resultados, identificando el mejor ensemble en cuanto a poder predictivo.*"
   ]
  },
  {
   "cell_type": "markdown",
   "metadata": {
    "tags": []
   },
   "source": [
    "### 1. RandomForestClassifier ###"
   ]
  },
  {
   "cell_type": "code",
   "execution_count": 61,
   "metadata": {},
   "outputs": [
    {
     "data": {
      "text/plain": [
       "RandomForestClassifier(max_depth=5, max_features=4, n_estimators=50, n_jobs=-1)"
      ]
     },
     "execution_count": 61,
     "metadata": {},
     "output_type": "execute_result"
    }
   ],
   "source": [
    "from sklearn.ensemble import RandomForestClassifier\n",
    "\n",
    "rf_clf = RandomForestClassifier(n_estimators=50 # numero de arboles del modelos\n",
    "                                ,max_depth = 5 # profundidad de los arboles\n",
    "                                ,max_features = 4\n",
    "                                ,n_jobs=-1,)\n",
    "rf_clf.fit(X_train_prepared, y_train)"
   ]
  },
  {
   "cell_type": "code",
   "execution_count": 62,
   "metadata": {},
   "outputs": [
    {
     "data": {
      "text/plain": [
       "0.9801980198019802"
      ]
     },
     "execution_count": 62,
     "metadata": {},
     "output_type": "execute_result"
    }
   ],
   "source": [
    "y_pred_base = rf_clf.predict(X_test_prepared)\n",
    "accuracy_score(y_pred_base, y_test)"
   ]
  },
  {
   "cell_type": "code",
   "execution_count": 63,
   "metadata": {},
   "outputs": [
    {
     "name": "stdout",
     "output_type": "stream",
     "text": [
      "{'n_estimators': [200, 400, 600, 800, 1000, 1200, 1400, 1600, 1800, 2000], 'max_features': ['auto', 'sqrt'], 'max_depth': [10, 20, 30, 40, 50, 60, 70, 80, 90, 100, 110, None], 'min_samples_split': [2, 5, 10], 'min_samples_leaf': [1, 2, 4], 'bootstrap': [True, False]}\n"
     ]
    }
   ],
   "source": [
    "from sklearn.model_selection import RandomizedSearchCV\n",
    "\n",
    "n_estimators = [int(x) for x in np.linspace(start = 200, stop = 2000, num = 10)]\n",
    "# Number of features to consider at every split\n",
    "max_features = ['auto', 'sqrt']\n",
    "# Maximum number of levels in tree\n",
    "max_depth = [int(x) for x in np.linspace(10, 110, num = 11)]\n",
    "max_depth.append(None)\n",
    "# Minimum number of samples required to split a node\n",
    "min_samples_split = [2, 5, 10]\n",
    "# Minimum number of samples required at each leaf node\n",
    "min_samples_leaf = [1, 2, 4]\n",
    "# Method of selecting samples for training each tree\n",
    "bootstrap = [True, False]\n",
    "# Create the random grid\n",
    "random_grid = {'n_estimators': n_estimators,\n",
    "               'max_features': max_features,\n",
    "               'max_depth': max_depth,\n",
    "               'min_samples_split': min_samples_split,\n",
    "               'min_samples_leaf': min_samples_leaf,\n",
    "               'bootstrap': bootstrap}\n",
    "print(random_grid)"
   ]
  },
  {
   "cell_type": "code",
   "execution_count": 64,
   "metadata": {},
   "outputs": [
    {
     "name": "stdout",
     "output_type": "stream",
     "text": [
      "Fitting 3 folds for each of 100 candidates, totalling 300 fits\n"
     ]
    },
    {
     "data": {
      "text/plain": [
       "RandomizedSearchCV(cv=3, estimator=RandomForestClassifier(), n_iter=100,\n",
       "                   n_jobs=-1,\n",
       "                   param_distributions={'bootstrap': [True, False],\n",
       "                                        'max_depth': [10, 20, 30, 40, 50, 60,\n",
       "                                                      70, 80, 90, 100, 110,\n",
       "                                                      None],\n",
       "                                        'max_features': ['auto', 'sqrt'],\n",
       "                                        'min_samples_leaf': [1, 2, 4],\n",
       "                                        'min_samples_split': [2, 5, 10],\n",
       "                                        'n_estimators': [200, 400, 600, 800,\n",
       "                                                         1000, 1200, 1400, 1600,\n",
       "                                                         1800, 2000]},\n",
       "                   random_state=42, verbose=2)"
      ]
     },
     "execution_count": 64,
     "metadata": {},
     "output_type": "execute_result"
    }
   ],
   "source": [
    "# Usamos el random grid para la búsqueda de los hiperparámetros\n",
    "rf = RandomForestClassifier()\n",
    "# Random search de parametros, usando 3 folds para la cross validation, \n",
    "# búsqueda con 100 combinaciones\n",
    "rf_random = RandomizedSearchCV(estimator = rf, param_distributions = random_grid, n_iter = 100, cv = 3, verbose=2, random_state=42, n_jobs = -1)\n",
    "# Fit del modelo random search\n",
    "rf_random.fit(X_train_prepared, y_train)"
   ]
  },
  {
   "cell_type": "code",
   "execution_count": 65,
   "metadata": {},
   "outputs": [
    {
     "data": {
      "text/plain": [
       "{'n_estimators': 1000,\n",
       " 'min_samples_split': 2,\n",
       " 'min_samples_leaf': 1,\n",
       " 'max_features': 'auto',\n",
       " 'max_depth': 50,\n",
       " 'bootstrap': False}"
      ]
     },
     "execution_count": 65,
     "metadata": {},
     "output_type": "execute_result"
    }
   ],
   "source": [
    "rf_random.best_params_\n",
    "# Buscamos los mejores parametros para entrenar el modelo"
   ]
  },
  {
   "cell_type": "code",
   "execution_count": 66,
   "metadata": {},
   "outputs": [
    {
     "data": {
      "text/plain": [
       "RandomForestClassifier(bootstrap=False, max_depth=50, n_estimators=1000)"
      ]
     },
     "execution_count": 66,
     "metadata": {},
     "output_type": "execute_result"
    }
   ],
   "source": [
    "rf_clf_cv = RandomForestClassifier(n_estimators = 1000, min_samples_split = 2, min_samples_leaf = 1,\n",
    "                                max_features = 'auto', max_depth = 50, bootstrap = False)\n",
    "rf_clf_cv.fit(X_train_prepared, y_train)"
   ]
  },
  {
   "cell_type": "code",
   "execution_count": 67,
   "metadata": {},
   "outputs": [
    {
     "data": {
      "text/plain": [
       "0.9801980198019802"
      ]
     },
     "execution_count": 67,
     "metadata": {},
     "output_type": "execute_result"
    }
   ],
   "source": [
    "y_pred_cv= rf_clf_cv.predict(X_test_prepared)\n",
    "accuracy_score(y_pred_cv, y_test)"
   ]
  },
  {
   "cell_type": "markdown",
   "metadata": {
    "tags": []
   },
   "source": [
    "### 2. AdaBoostClassifier ###"
   ]
  },
  {
   "cell_type": "code",
   "execution_count": 82,
   "metadata": {
    "tags": []
   },
   "outputs": [],
   "source": [
    "from sklearn.ensemble import AdaBoostClassifier"
   ]
  },
  {
   "cell_type": "code",
   "execution_count": 83,
   "metadata": {},
   "outputs": [
    {
     "data": {
      "text/plain": [
       "AdaBoostClassifier(base_estimator=DecisionTreeClassifier(max_depth=3),\n",
       "                   learning_rate=1, n_estimators=100)"
      ]
     },
     "execution_count": 83,
     "metadata": {},
     "output_type": "execute_result"
    }
   ],
   "source": [
    "ada_clf = AdaBoostClassifier(DecisionTreeClassifier(max_depth=3), n_estimators=100,algorithm='SAMME.R'\n",
    "                            , learning_rate= 1)\n",
    "# Entrenamos el modelo\n",
    "ada_clf.fit(X_train_prepared, y_train)"
   ]
  },
  {
   "cell_type": "code",
   "execution_count": 84,
   "metadata": {},
   "outputs": [],
   "source": [
    "y_test_ada = ada_clf.predict(X_test_prepared)"
   ]
  },
  {
   "cell_type": "code",
   "execution_count": 85,
   "metadata": {},
   "outputs": [
    {
     "data": {
      "text/plain": [
       "0.9801980198019802"
      ]
     },
     "execution_count": 85,
     "metadata": {},
     "output_type": "execute_result"
    }
   ],
   "source": [
    "accuracy_score(y_test_ada, y_test)"
   ]
  },
  {
   "cell_type": "code",
   "execution_count": 86,
   "metadata": {},
   "outputs": [
    {
     "data": {
      "text/plain": [
       "RandomizedSearchCV(cv=3, estimator=AdaBoostClassifier(), n_jobs=-1,\n",
       "                   param_distributions={'learning_rate': [0.01, 0.05, 0.1, 0.3,\n",
       "                                                          1],\n",
       "                                        'n_estimators': [50, 100]})"
      ]
     },
     "execution_count": 86,
     "metadata": {},
     "output_type": "execute_result"
    }
   ],
   "source": [
    "# Realizamos el grid search\n",
    "from sklearn.ensemble import AdaBoostClassifier\n",
    "from sklearn.model_selection import RandomizedSearchCV\n",
    "\n",
    "param_dist = {\n",
    " 'n_estimators': [50, 100],\n",
    " 'learning_rate' : [0.01,0.05,0.1,0.3,1],\n",
    " }\n",
    "\n",
    "ada_clf_inst = RandomizedSearchCV(AdaBoostClassifier(),\n",
    " param_distributions = param_dist,\n",
    " cv=3,\n",
    " n_iter = 10,\n",
    " n_jobs=-1)\n",
    "\n",
    "ada_clf_inst.fit(X_train_prepared, y_train)"
   ]
  },
  {
   "cell_type": "code",
   "execution_count": 87,
   "metadata": {},
   "outputs": [
    {
     "data": {
      "text/plain": [
       "{'n_estimators': 100, 'learning_rate': 0.3}"
      ]
     },
     "execution_count": 87,
     "metadata": {},
     "output_type": "execute_result"
    }
   ],
   "source": [
    "ada_clf_inst.best_params_\n",
    "# Buscamos los mejores parametros"
   ]
  },
  {
   "cell_type": "code",
   "execution_count": 92,
   "metadata": {},
   "outputs": [],
   "source": [
    "# Optimizamos los hiperparámetros\n",
    "ada_clf_op = AdaBoostClassifier(DecisionTreeClassifier(max_depth=5), \n",
    "                               n_estimators=50, learning_rate= 0.3)"
   ]
  },
  {
   "cell_type": "code",
   "execution_count": 93,
   "metadata": {},
   "outputs": [
    {
     "data": {
      "text/plain": [
       "AdaBoostClassifier(base_estimator=DecisionTreeClassifier(max_depth=5),\n",
       "                   learning_rate=0.3)"
      ]
     },
     "execution_count": 93,
     "metadata": {},
     "output_type": "execute_result"
    }
   ],
   "source": [
    "# Entrenamiento del modelo\n",
    "ada_clf_op.fit(X_train_prepared, y_train)"
   ]
  },
  {
   "cell_type": "code",
   "execution_count": 94,
   "metadata": {},
   "outputs": [],
   "source": [
    "y_test_pred = ada_clf_op.predict(X_test_prepared)"
   ]
  },
  {
   "cell_type": "code",
   "execution_count": 95,
   "metadata": {},
   "outputs": [
    {
     "data": {
      "text/plain": [
       "0.9900990099009901"
      ]
     },
     "execution_count": 95,
     "metadata": {},
     "output_type": "execute_result"
    }
   ],
   "source": [
    "accuracy_score(y_test_pred, y_test)"
   ]
  },
  {
   "cell_type": "code",
   "execution_count": null,
   "metadata": {},
   "outputs": [],
   "source": []
  },
  {
   "cell_type": "code",
   "execution_count": null,
   "metadata": {},
   "outputs": [],
   "source": []
  }
 ],
 "metadata": {
  "kernelspec": {
   "display_name": "Python 3 (ipykernel)",
   "language": "python",
   "name": "python3"
  },
  "language_info": {
   "codemirror_mode": {
    "name": "ipython",
    "version": 3
   },
   "file_extension": ".py",
   "mimetype": "text/x-python",
   "name": "python",
   "nbconvert_exporter": "python",
   "pygments_lexer": "ipython3",
   "version": "3.9.7"
  }
 },
 "nbformat": 4,
 "nbformat_minor": 4
}
